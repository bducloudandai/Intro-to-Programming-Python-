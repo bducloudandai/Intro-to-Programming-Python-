{
  "nbformat": 4,
  "nbformat_minor": 0,
  "metadata": {
    "colab": {
      "provenance": [],
      "collapsed_sections": [
        "d6x-pRRgA1nL",
        "_rJVOHpsA8qz",
        "FEwuyTFuHVGE",
        "_Z42WYjFMnhO",
        "jk8_iWYwMv79",
        "Q88hA63WM0bk",
        "eOXTmiI8TEDA",
        "CWMVcEGvWqQI",
        "5KpaKsm7bTQ_",
        "Sw1_BFrCbW7A",
        "i5Gm5fQvt3io",
        "3wRg84DluAWZ",
        "twIZ9PqB4zDI",
        "Hf377Qbj44f4",
        "sTwkCQUSAvWQ",
        "HB2UqfAMGAaW",
        "9bzkTL7oQUb0",
        "g3o_XbgVYff5",
        "2MzVsdcudbRy",
        "QpcmewqOhsbK",
        "Cqh3FvX8SC2_",
        "875nNfGZVeJI",
        "ipHBQFuNYg_Q",
        "Re6ovZlfeRzQ",
        "qQ7Uravmi9Oo",
        "doin7V1ToLRo",
        "nXZfXlzwtIOO",
        "Z-CI5oBm6hrn",
        "E-a1WEM96m0X",
        "YVwI4tAd6qyf",
        "ZGUES2i1-dX3",
        "dqEHd55qCtvR",
        "LdcIqQxuC0WI",
        "pfuUmAfuC3GA",
        "UwRozEBGIrrJ",
        "mhka_Dk2MDCC",
        "TvKQvfLy30bj",
        "2Mik3iLr33Lz",
        "PHbNQRnr7kq-",
        "raZzMgie7ob-",
        "FXAjPX2AAoPS",
        "3iv5cC_jArkD",
        "TZncAm5vGXTH",
        "gnobObEqQC_G",
        "ACBIkYIDTS5Y",
        "RvN4MeOXTbGx",
        "VGy9UttNTd0g",
        "7G0wMRF9W3uE",
        "CaW8f9mTdYKw",
        "gNZYSU2LhsZM",
        "76X5HS_KhzXD",
        "gP5ZEsh3h2Ts"
      ],
      "include_colab_link": true
    },
    "kernelspec": {
      "name": "python3",
      "display_name": "Python 3"
    },
    "language_info": {
      "name": "python"
    }
  },
  "cells": [
    {
      "cell_type": "markdown",
      "metadata": {
        "id": "view-in-github",
        "colab_type": "text"
      },
      "source": [
        "<a href=\"https://colab.research.google.com/github/bducloudandai/Intro-to-Programming-Python-/blob/main/Intro_to_Programming.ipynb\" target=\"_parent\"><img src=\"https://colab.research.google.com/assets/colab-badge.svg\" alt=\"Open In Colab\"/></a>"
      ]
    },
    {
      "cell_type": "markdown",
      "source": [
        "# 2022 프로그래밍 입문"
      ],
      "metadata": {
        "id": "6-On8WJ5AXm7"
      }
    },
    {
      "cell_type": "markdown",
      "source": [
        "## 1주차 3강 < 코랩 활용하기 >"
      ],
      "metadata": {
        "id": "d6x-pRRgA1nL"
      }
    },
    {
      "cell_type": "code",
      "execution_count": null,
      "metadata": {
        "colab": {
          "base_uri": "https://localhost:8080/"
        },
        "id": "qW31x4Fg9u-i",
        "outputId": "368fabb1-1df6-4c2a-a889-177d487d30df"
      },
      "outputs": [
        {
          "output_type": "stream",
          "name": "stdout",
          "text": [
            "Hello,world!\n"
          ]
        }
      ],
      "source": [
        "print(\"Hello,world!\")"
      ]
    },
    {
      "cell_type": "markdown",
      "source": [
        "## 2주차 1강 < 변수의 개념 익히기 >"
      ],
      "metadata": {
        "id": "_rJVOHpsA8qz"
      }
    },
    {
      "cell_type": "code",
      "source": [
        "print(100 + 200)"
      ],
      "metadata": {
        "colab": {
          "base_uri": "https://localhost:8080/"
        },
        "id": "Zc0Sx852Ejoe",
        "outputId": "c7da9922-a170-47d9-ba49-1c887124b320"
      },
      "execution_count": null,
      "outputs": [
        {
          "output_type": "stream",
          "name": "stdout",
          "text": [
            "300\n"
          ]
        }
      ]
    },
    {
      "cell_type": "code",
      "source": [
        "a = 200\n",
        "b = 200\n",
        "c = a + b\n",
        "print(a, \"+\", b, \"=\", c)"
      ],
      "metadata": {
        "colab": {
          "base_uri": "https://localhost:8080/"
        },
        "id": "lTF58gRLFNGj",
        "outputId": "3fd9c7c6-a46a-42cd-8313-e8c71304a7c0"
      },
      "execution_count": null,
      "outputs": [
        {
          "output_type": "stream",
          "name": "stdout",
          "text": [
            "200 + 200 = 400\n"
          ]
        }
      ]
    },
    {
      "cell_type": "markdown",
      "source": [
        "## 2주차 2강 < 변수의 선언과 값의 대입 >"
      ],
      "metadata": {
        "id": "FEwuyTFuHVGE"
      }
    },
    {
      "cell_type": "markdown",
      "source": [
        "### (1) 올바른 값의 대입"
      ],
      "metadata": {
        "id": "-1CtTrIdHtgs"
      }
    },
    {
      "cell_type": "code",
      "source": [
        "num1 = 100\n",
        "num2 = 100\n",
        "result = num1 - num2\n",
        "print(result)\n",
        "\n",
        "result = num1 + 200\n",
        "print(result)"
      ],
      "metadata": {
        "colab": {
          "base_uri": "https://localhost:8080/"
        },
        "id": "w54Ss-RwJ6r9",
        "outputId": "9549845f-a1e3-421f-bc69-1e795084e76a"
      },
      "execution_count": null,
      "outputs": [
        {
          "output_type": "stream",
          "name": "stdout",
          "text": [
            "0\n",
            "300\n"
          ]
        }
      ]
    },
    {
      "cell_type": "markdown",
      "source": [
        "### (2) 잘못된 값의 대입\n",
        "\n"
      ],
      "metadata": {
        "id": "GrQlcK6wH2HU"
      }
    },
    {
      "cell_type": "code",
      "source": [
        "100 = num1 + num2"
      ],
      "metadata": {
        "colab": {
          "base_uri": "https://localhost:8080/",
          "height": 131
        },
        "id": "N3ytCpCAJ7jm",
        "outputId": "1a723f74-654e-489a-d8d2-15ebf2fdbfea"
      },
      "execution_count": null,
      "outputs": [
        {
          "output_type": "error",
          "ename": "SyntaxError",
          "evalue": "ignored",
          "traceback": [
            "\u001b[0;36m  File \u001b[0;32m\"<ipython-input-13-40646890c740>\"\u001b[0;36m, line \u001b[0;32m1\u001b[0m\n\u001b[0;31m    100 = num1 + num2\u001b[0m\n\u001b[0m                     ^\u001b[0m\n\u001b[0;31mSyntaxError\u001b[0m\u001b[0;31m:\u001b[0m can't assign to literal\n"
          ]
        }
      ]
    },
    {
      "cell_type": "code",
      "source": [
        "num1 + num2 = result"
      ],
      "metadata": {
        "colab": {
          "base_uri": "https://localhost:8080/",
          "height": 131
        },
        "id": "2ChMlTV1J-n8",
        "outputId": "361ab744-0f9b-4e7c-d192-65488d7fd305"
      },
      "execution_count": null,
      "outputs": [
        {
          "output_type": "error",
          "ename": "SyntaxError",
          "evalue": "ignored",
          "traceback": [
            "\u001b[0;36m  File \u001b[0;32m\"<ipython-input-16-43ddd4fa8ec0>\"\u001b[0;36m, line \u001b[0;32m1\u001b[0m\n\u001b[0;31m    num1 + num2 = result\u001b[0m\n\u001b[0m                        ^\u001b[0m\n\u001b[0;31mSyntaxError\u001b[0m\u001b[0;31m:\u001b[0m can't assign to operator\n"
          ]
        }
      ]
    },
    {
      "cell_type": "markdown",
      "source": [
        "## 2주차 3강 < 변수를 사용한 코드 출력 >"
      ],
      "metadata": {
        "id": "_Z42WYjFMnhO"
      }
    },
    {
      "cell_type": "markdown",
      "source": [
        "###(1) 숫자 출력"
      ],
      "metadata": {
        "id": "jk8_iWYwMv79"
      }
    },
    {
      "cell_type": "code",
      "source": [
        "# 뺄셈연산\n",
        "num1 = 100\n",
        "num2 = 50\n",
        "result = num1 - num2\n",
        "print(num1, \"-\", num2, \"=\", result)\n",
        "\n",
        "# 곱셈연산\n",
        "result = num1 * num2\n",
        "print(num1, \"x\", num2, \"=\", result)\n",
        "\n",
        "# 나눗셈연산\n",
        "result = num1 / num2\n",
        "print(num1, \"÷\", num2, \"=\", result)"
      ],
      "metadata": {
        "colab": {
          "base_uri": "https://localhost:8080/"
        },
        "id": "VP2b20b2M0Fj",
        "outputId": "ddf4624e-2839-4051-da31-c769fb46abc7"
      },
      "execution_count": null,
      "outputs": [
        {
          "output_type": "stream",
          "name": "stdout",
          "text": [
            "100 - 50 = 50\n",
            "100 x 50 = 5000\n",
            "100 ÷ 50 = 2.0\n"
          ]
        }
      ]
    },
    {
      "cell_type": "markdown",
      "source": [
        "### (2) 문자열 출력"
      ],
      "metadata": {
        "id": "Q88hA63WM0bk"
      }
    },
    {
      "cell_type": "code",
      "source": [
        "str1 = '난생처음'\n",
        "str2 = \"파이썬\"\n",
        "result = str1 + str2\n",
        "print(result)\n",
        "\n",
        "result = str1 * str2\n",
        "print(result)"
      ],
      "metadata": {
        "colab": {
          "base_uri": "https://localhost:8080/",
          "height": 235
        },
        "id": "lWR3b4q0M8Zc",
        "outputId": "e33c2ebf-8990-47a6-cd28-a65f8b97bef1"
      },
      "execution_count": null,
      "outputs": [
        {
          "output_type": "stream",
          "name": "stdout",
          "text": [
            "난생처음파이썬\n"
          ]
        },
        {
          "output_type": "error",
          "ename": "TypeError",
          "evalue": "ignored",
          "traceback": [
            "\u001b[0;31m---------------------------------------------------------------------------\u001b[0m",
            "\u001b[0;31mTypeError\u001b[0m                                 Traceback (most recent call last)",
            "\u001b[0;32m<ipython-input-26-d0d65c5db7e6>\u001b[0m in \u001b[0;36m<module>\u001b[0;34m()\u001b[0m\n\u001b[1;32m      4\u001b[0m \u001b[0mprint\u001b[0m\u001b[0;34m(\u001b[0m\u001b[0mresult\u001b[0m\u001b[0;34m)\u001b[0m\u001b[0;34m\u001b[0m\u001b[0;34m\u001b[0m\u001b[0m\n\u001b[1;32m      5\u001b[0m \u001b[0;34m\u001b[0m\u001b[0m\n\u001b[0;32m----> 6\u001b[0;31m \u001b[0mresult\u001b[0m \u001b[0;34m=\u001b[0m \u001b[0mstr1\u001b[0m \u001b[0;34m*\u001b[0m \u001b[0mstr2\u001b[0m\u001b[0;34m\u001b[0m\u001b[0;34m\u001b[0m\u001b[0m\n\u001b[0m\u001b[1;32m      7\u001b[0m \u001b[0mprint\u001b[0m\u001b[0;34m(\u001b[0m\u001b[0mresult\u001b[0m\u001b[0;34m)\u001b[0m\u001b[0;34m\u001b[0m\u001b[0;34m\u001b[0m\u001b[0m\n",
            "\u001b[0;31mTypeError\u001b[0m: can't multiply sequence by non-int of type 'str'"
          ]
        }
      ]
    },
    {
      "cell_type": "markdown",
      "source": [
        "## 3주차 1강 < 변수명 규칙 >"
      ],
      "metadata": {
        "id": "eOXTmiI8TEDA"
      }
    },
    {
      "cell_type": "code",
      "source": [
        "# 변수명은 영문 및 숫자만 사용\n",
        "\n",
        "a = 100\n",
        "abcd = 200\n",
        "zzzz = 300\n",
        "p1234 = 400\n",
        "\n",
        "# 단, 영문으로 시작해야 함\n",
        "#333 = 100\n",
        "#3abcd = 200\n",
        "\n",
        "# 변수명에 언더바(_)사용 가능\n",
        "input_number = 100\n",
        "_number = 200\n",
        "_data_ = 300\n",
        "__my__ = 400\n",
        "_1234 = 500\n",
        "\n",
        "# 변수명은 대문자와 소문자를 구분\n",
        "mynumber = 100\n",
        "MYNUMBER = 200\n",
        "Mynumber = 300\n",
        "myNumber = 400\n",
        "\n",
        "# 변수명에 예약어 사용 불가\n",
        "#if = 100"
      ],
      "metadata": {
        "id": "YwOgvz7DTOjl"
      },
      "execution_count": null,
      "outputs": []
    },
    {
      "cell_type": "markdown",
      "source": [
        "## 3주차 3강 < [LAB]간단한 사칙연산 계산기 만들기 >"
      ],
      "metadata": {
        "id": "CWMVcEGvWqQI"
      }
    },
    {
      "cell_type": "code",
      "source": [
        "# 2. 두 변수를 준비하고 숫자를 대입하기 \n",
        "num1 = 400\n",
        "num2 = 100\n",
        "\n",
        "# 3. 두 수를 사칙연산한는 코드를 추가하기\n",
        "result1 = num1 + num2\n",
        "result2 = num1 - num2\n",
        "result3 = num1 * num2\n",
        "result4 = num1 / num2\n",
        "\n",
        "# 4. 사칙연산 결과를 출력하는 코드를 추가하기\n",
        "print(num1, \"+\", num2, \"=\", result1)\n",
        "print(num1, \"-\", num2, \"=\", result2)\n",
        "print(num1, \"*\", num2, \"=\", result3)\n",
        "print(num1, \"/\", num2, \"=\", result4)"
      ],
      "metadata": {
        "colab": {
          "base_uri": "https://localhost:8080/"
        },
        "id": "ryUpriPNXMSX",
        "outputId": "76d32672-4058-4e40-96f2-2ae194d24e4f"
      },
      "execution_count": null,
      "outputs": [
        {
          "output_type": "stream",
          "name": "stdout",
          "text": [
            "400 + 100 = 500\n",
            "400 - 100 = 300\n",
            "400 * 100 = 40000\n",
            "400 / 100 = 4.0\n"
          ]
        }
      ]
    },
    {
      "cell_type": "markdown",
      "source": [
        "## 4주차 1강 < 숫자 입력받고 출력하기 >"
      ],
      "metadata": {
        "id": "1h2FdPyObAMI"
      }
    },
    {
      "cell_type": "markdown",
      "source": [
        "### (1) Input() 함수 활용"
      ],
      "metadata": {
        "id": "5KpaKsm7bTQ_"
      }
    },
    {
      "cell_type": "code",
      "source": [
        "num1 = input()\n",
        "\n",
        "num2 = input(\"숫자==>\")\n",
        "\n",
        "result1 = num1 + num2\n",
        "\n",
        "print(result1)"
      ],
      "metadata": {
        "id": "XEjlkZDFbQHP",
        "colab": {
          "base_uri": "https://localhost:8080/"
        },
        "outputId": "cc3dad62-bdd0-43d7-ef98-4234219a4bc9"
      },
      "execution_count": null,
      "outputs": [
        {
          "output_type": "stream",
          "name": "stdout",
          "text": [
            "100\n",
            "숫자==>200\n",
            "100200\n"
          ]
        }
      ]
    },
    {
      "cell_type": "markdown",
      "source": [
        "### (2) 정수로 변환하는 int() 함수"
      ],
      "metadata": {
        "id": "Sw1_BFrCbW7A"
      }
    },
    {
      "cell_type": "code",
      "source": [
        "num1 = int(input(\"숫자1 ==>\"))\n",
        "\n",
        "num2 = int(input(\"숫자2 ==>\"))\n",
        "\n",
        "result = num1 + num2\n",
        "\n",
        "print(result)"
      ],
      "metadata": {
        "colab": {
          "base_uri": "https://localhost:8080/"
        },
        "id": "Cd4_-QK_p_2D",
        "outputId": "7ceb7782-aed7-4da4-df51-fbd04dd93f93"
      },
      "execution_count": null,
      "outputs": [
        {
          "output_type": "stream",
          "name": "stdout",
          "text": [
            "숫자1 ==>100\n",
            "숫자2 ==>200\n",
            "300\n"
          ]
        }
      ]
    },
    {
      "cell_type": "markdown",
      "source": [
        "**굵은 텍스트**## 4주차 2강 <문자열 입력받고 출력하기>"
      ],
      "metadata": {
        "id": "kB7TQgSPteIq"
      }
    },
    {
      "cell_type": "markdown",
      "source": [
        "## 4주차 2강 < 문자열 입력받고 출력하기 >"
      ],
      "metadata": {
        "id": "TL1aHKWxttBC"
      }
    },
    {
      "cell_type": "markdown",
      "source": [
        "### (1) 사용자에게 문자열을 입력받아 출력하기"
      ],
      "metadata": {
        "id": "i5Gm5fQvt3io"
      }
    },
    {
      "cell_type": "code",
      "source": [
        "\n",
        "userName = input(\"이름 ==> \")\n",
        "\n",
        "userPhone = input(\"전화번호 ==> \")\n",
        "\n",
        "print(\"제 이름은\", userName, \"이고, 연락처는\", userPhone, \"입니다.\")\n",
        "\n",
        "#f-string 포맷팅은 파이썬 버전 3.6 부터 사용할 수 있는 기능\n",
        "# 문자열 포매팅이란, 문자열 안에 어떤 값이나 변수 따위를 삽입하는 방법\n",
        "# f'문자열 {변수} 문자열'\n",
        "\n",
        "print(f'제 이름은 {userName} 이고, 연락처는 {userPhone} 입니다.')"
      ],
      "metadata": {
        "colab": {
          "base_uri": "https://localhost:8080/"
        },
        "id": "cQFqfA6JuFvZ",
        "outputId": "b1fabd3c-52d2-4c9b-e871-ce0f26901787"
      },
      "execution_count": null,
      "outputs": [
        {
          "output_type": "stream",
          "name": "stdout",
          "text": [
            "이름 ==> 홍길동\n",
            "전화번호 ==> 000-0000-0000\n",
            "제 이름은 홍길동 이고, 연락처는 000-0000-0000 입니다.\n",
            "제 이름은 홍길동 이고, 연락처는 000-0000-0000 입니다.\n"
          ]
        }
      ]
    },
    {
      "cell_type": "markdown",
      "source": [
        "### (2) [실습] 택배 배송 정보 입력하기"
      ],
      "metadata": {
        "id": "3wRg84DluAWZ"
      }
    },
    {
      "cell_type": "code",
      "source": [
        "# 1. 받는 사람, 주소, 무게를 저장할 변수를 선언하기\n",
        "print(\"## 택배를 보내기 위한 정보를 입력하세요. ##\")\n",
        "\n",
        "personName = input(\"받는 사람 :\")\n",
        "\n",
        "personAddr = input(\"주소 : \")\n",
        "\n",
        "weight = int(input(\"무게(g) : \"))\n",
        "\n",
        "# 2. print( ) 함수로 받는 사람과 주소를 출력하기\n",
        "\n",
        "print(\"** 받는 사람 ==> \", personName)\n",
        "\n",
        "print(\"** 주소 ==>\", personAddr)\n",
        "\n",
        "# 3. 배송비는 무게의 그램(g)당 5원이므로 무게에 5를 곱하여 출력하기\n",
        "\n",
        "print(\"** 배송비 ==>\", weight*5, \"원\")"
      ],
      "metadata": {
        "colab": {
          "base_uri": "https://localhost:8080/"
        },
        "id": "Gnsc9LrXuGYp",
        "outputId": "95869b44-c536-499e-e542-97efef060193"
      },
      "execution_count": null,
      "outputs": [
        {
          "output_type": "stream",
          "name": "stdout",
          "text": [
            "## 택배를 보내기 위한 정보를 입력하세요. ##\n",
            "받는 사람 :홍길동\n",
            "주소 : 부산시\n",
            "무게(g) : 100\n",
            "** 받는 사람 ==>  홍길동\n",
            "** 주소 ==> 부산시\n",
            "** 배송비 ==> 500 원\n"
          ]
        }
      ]
    },
    {
      "cell_type": "markdown",
      "source": [
        "## 4주차 3강 < [LAB] 숫자를 입력하는 계산기 만들기 >"
      ],
      "metadata": {
        "id": "yR73EF3lyo0B"
      }
    },
    {
      "cell_type": "markdown",
      "source": [
        "### (1) [LAB] 숫자를 입력하는 계산기 만들기"
      ],
      "metadata": {
        "id": "twIZ9PqB4zDI"
      }
    },
    {
      "cell_type": "code",
      "source": [
        "# 2. 두 변수를 준비하고 키보드로 입력받을 수 있도록 코딩하기\n",
        "num1 = int(input(\"숫자1 ==>\"))\n",
        "num2 = int(input(\"숫자2 ==>\"))\n",
        "\n",
        "# 3. 두 수를 계산하는 코드를 그 아래에 추가하기 \n",
        "result1 = num1 + num2\n",
        "result2 = num1 - num2\n",
        "result3 = num1 * num2\n",
        "result4 = num1 / num2\n",
        "result5 = num1 % num2\n",
        "result6 = num1 ** num2\n",
        "\n",
        "# 4. 사칙연산 결과를 출력하는 코드를 추가하기\n",
        "print(num1, \"+\", num2, \"=\", result1)\n",
        "print(num1, \"-\", num2, \"=\", result2)\n",
        "print(num1, \"*\", num2, \"=\", result3)\n",
        "print(num1, \"/\", num2, \"=\", result4)\n",
        "print(num1, \"%\", num2, \"=\", result5)\n",
        "print(num1, \"**\", num2, \"=\", result6)"
      ],
      "metadata": {
        "colab": {
          "base_uri": "https://localhost:8080/"
        },
        "id": "XoWClbjly4wH",
        "outputId": "8f5109a1-e27d-47ee-d37b-97ea7380b12a"
      },
      "execution_count": null,
      "outputs": [
        {
          "output_type": "stream",
          "name": "stdout",
          "text": [
            "숫자1 ==>10\n",
            "숫자2 ==>3\n",
            "10 + 3 = 13\n",
            "10 - 3 = 7\n",
            "10 * 3 = 30\n",
            "10 / 3 = 3.3333333333333335\n",
            "10 % 3 = 1\n",
            "10 ** 3 = 1000\n"
          ]
        }
      ]
    },
    {
      "cell_type": "markdown",
      "source": [
        "### (2) 함수를 이용한 계산기 만들기"
      ],
      "metadata": {
        "id": "Hf377Qbj44f4"
      }
    },
    {
      "cell_type": "code",
      "source": [
        "def add(x, y):\n",
        "    return x + y\n",
        "def subtract(x, y):\n",
        "    return x - y\n",
        "def multiply(x, y):\n",
        "    return x * y\n",
        "def divide(x, y):\n",
        "    return x / y\n",
        "print(\"사칙연산을 선택 하세요.\")\n",
        "print(\"1.더하기\")\n",
        "print(\"2.빼기\")\n",
        "print(\"3.곱하기\")\n",
        "print(\"4.나누기\")\n",
        "choice = input(\"선택 하세요(1/2/3/4):\")\n",
        "num1 = int(input(\"첫번째 숫자 : \"))\n",
        "num2 = int(input(\"두번째 숫자 : \"))\n",
        "if choice == '1':\n",
        "    print(num1,\"+\",num2,\"=\", add(num1,num2))\n",
        "elif choice == '2':\n",
        "    print(num1,\"-\",num2,\"=\", subtract(num1,num2))\n",
        "elif choice == '3':\n",
        "    print(num1,\"*\",num2,\"=\", multiply(num1,num2))\n",
        "elif choice == '4':\n",
        "    print(num1,\"/\",num2,\"=\", divide(num1,num2))\n",
        "else:\n",
        "    print(\"잘못된 선택\")"
      ],
      "metadata": {
        "colab": {
          "base_uri": "https://localhost:8080/"
        },
        "id": "HUoSYoib2QyB",
        "outputId": "9758208d-aa9b-4c37-9a5d-b63bbd53ba2e"
      },
      "execution_count": null,
      "outputs": [
        {
          "output_type": "stream",
          "name": "stdout",
          "text": [
            "사칙연산을 선택 하세요.\n",
            "1.더하기\n",
            "2.빼기\n",
            "3.곱하기\n",
            "4.나누기\n",
            "선택 하세요(1/2/3/4):1\n",
            "첫번째 숫자 : 5\n",
            "두번째 숫자 : 4\n",
            "5 + 4 = 9\n"
          ]
        }
      ]
    },
    {
      "cell_type": "markdown",
      "source": [
        "## 5주차 1강 < 산술연산자 우선순위 실습하기 >"
      ],
      "metadata": {
        "id": "sTwkCQUSAvWQ"
      }
    },
    {
      "cell_type": "code",
      "source": [
        "# 1. 더하기와 빼기가 동시에 나오는 경우\n",
        "\n",
        "a, b, c = 3, 4, 5\n",
        "\n",
        "print( a + b - c )\n",
        "\n",
        "print( a - c + b )\n",
        "\n",
        "print( -c + a + b )"
      ],
      "metadata": {
        "colab": {
          "base_uri": "https://localhost:8080/"
        },
        "id": "4CTRcR5ZA1aH",
        "outputId": "cf8dacaa-a932-4d0b-9f47-d02720aaf3d9"
      },
      "execution_count": null,
      "outputs": [
        {
          "output_type": "stream",
          "name": "stdout",
          "text": [
            "2\n",
            "2\n",
            "2\n"
          ]
        }
      ]
    },
    {
      "cell_type": "code",
      "source": [
        "#2. 곱하기와 나누기가 동시에 나오는 경우\n",
        "\n",
        "a, b, c = 2, 4, 6\n",
        "\n",
        "print( a / b * c )\n",
        "\n",
        "print( a * c / b )\n",
        "\n",
        "print( c / b * a )"
      ],
      "metadata": {
        "colab": {
          "base_uri": "https://localhost:8080/"
        },
        "id": "ll0qbGR2EBxm",
        "outputId": "117c9f71-8056-4d57-a398-808d9a69cb00"
      },
      "execution_count": null,
      "outputs": [
        {
          "output_type": "stream",
          "name": "stdout",
          "text": [
            "3.0\n",
            "3.0\n",
            "3.0\n"
          ]
        }
      ]
    },
    {
      "cell_type": "code",
      "source": [
        "#3. 더하기와 곱하기가 동시에 나오는 경우\n",
        "\n",
        "a, b, c = 3, 4, 5\n",
        "\n",
        "print(a * b + c)\n",
        "\n",
        "print( c + a * b )\n",
        "\n",
        "print((c + a) * b)"
      ],
      "metadata": {
        "colab": {
          "base_uri": "https://localhost:8080/"
        },
        "id": "bN_u0Zh9EsIu",
        "outputId": "6adff341-7711-4e2c-832a-81982054ba81"
      },
      "execution_count": null,
      "outputs": [
        {
          "output_type": "stream",
          "name": "stdout",
          "text": [
            "17\n",
            "17\n",
            "32\n"
          ]
        }
      ]
    },
    {
      "cell_type": "markdown",
      "source": [
        "## 5주차 2강 <몫과 나머지 연산자, 제곱 연산자>"
      ],
      "metadata": {
        "id": "HB2UqfAMGAaW"
      }
    },
    {
      "cell_type": "code",
      "source": [
        "# 나누기(몫) 연산자\n",
        "\n",
        "q = 5 // 3\n",
        "print(q)\n",
        "\n",
        "# 나머지 연산자 \n",
        "\n",
        "r = 5 % 3\n",
        "print(r)\n",
        "\n",
        "# 제곱 연산자 \n",
        "\n",
        "num = 5 ** 3\n",
        "print(num)\n",
        "\n",
        "# 제곱근 계산하기\n",
        "square_root = 100 ** (1/2)\n",
        "print(square_root)\n",
        "\n",
        "import math\n",
        "square_1 = math.sqrt(100)\n",
        "print(square_1)\n",
        "math."
      ],
      "metadata": {
        "colab": {
          "base_uri": "https://localhost:8080/"
        },
        "id": "lRmFZjHuGF_u",
        "outputId": "fc39bdfc-dbb1-48ef-a65d-c1c44654ed7b"
      },
      "execution_count": null,
      "outputs": [
        {
          "output_type": "stream",
          "name": "stdout",
          "text": [
            "1\n",
            "2\n",
            "125\n",
            "10.0\n",
            "10.0\n"
          ]
        }
      ]
    },
    {
      "cell_type": "code",
      "source": [
        "num1 = int(input(\"나눠지는 수 ==>\"))\n",
        "num2 = int(input(\"나누는 수 ==>\"))\n",
        "\n",
        "result1 = num1 // num2\n",
        "result2 = num1 % num2\n",
        "\n",
        "print(num1, \"을(를)\", num2, \"(으)로 나눈 몫은\", result1, \"입니다.\")\n",
        "print(num1, \"을(를)\", num2, \"(으)로 나눈 나머지는\", result2, \"입니다.\")"
      ],
      "metadata": {
        "colab": {
          "base_uri": "https://localhost:8080/"
        },
        "id": "sUBpdOFlNawF",
        "outputId": "551431ed-5259-434f-af30-9e4ea8be05ce"
      },
      "execution_count": null,
      "outputs": [
        {
          "output_type": "stream",
          "name": "stdout",
          "text": [
            "나눠지는 수 ==>25\n",
            "나누는 수 ==>10\n",
            "25 을(를) 10 (으)로 나눈 몫은 2 입니다.\n",
            "25 을(를) 10 (으)로 나눈 나머지는 5 입니다.\n"
          ]
        }
      ]
    },
    {
      "cell_type": "markdown",
      "source": [
        "## 5주차 3강 < [LAB]덤벨의 파운드를 kg으로 환산하기 >"
      ],
      "metadata": {
        "id": "9bzkTL7oQUb0"
      }
    },
    {
      "cell_type": "code",
      "source": [
        "# 2. 파운드 단위의 값을 입력받아 킬로그램으로 변환\n",
        "\n",
        "pound = int(input(\"파운드(lb)를 입력하세요 : \"))\n",
        "\n",
        "kg = pound * 0.453592\n",
        "\n",
        "print(pound, \"파운드(lb)는\", kg, \"킬로그램(kg) 입니다.\")\n",
        "\n",
        "# 3. 킬로그램 단위의 값을 입력받아 파운드로 변환\n",
        "\n",
        "kg = int(input(\"킬로그램(kg)을 입력하세요 : \"))\n",
        "\n",
        "pound = kg * 2.204623\n",
        "\n",
        "print(kg, \"킬로그램(kg)은\", pound, \"파운드(lb) 입니다.\")"
      ],
      "metadata": {
        "colab": {
          "base_uri": "https://localhost:8080/"
        },
        "id": "Kn_iiaswQadw",
        "outputId": "2d7c6852-52a5-46d3-ac37-be1c78639580"
      },
      "execution_count": null,
      "outputs": [
        {
          "output_type": "stream",
          "name": "stdout",
          "text": [
            "파운드(lb)를 입력하세요 : 100\n",
            "100 파운드(lb)는 45.3592 킬로그램(kg) 입니다.\n",
            "킬로그램(kg)을 입력하세요 : 30\n",
            "30 킬로그램(kg)은 66.13869000000001 파운드(lb) 입니다.\n"
          ]
        }
      ]
    },
    {
      "cell_type": "code",
      "source": [
        "# 평(平) <==> 제곱미터(m2)\n",
        "\n",
        "pyung = int(input(\"평(平)을 입력하세요 : \"))\n",
        "\n",
        "m_2 = pyung * 3.30579\n",
        "\n",
        "print(pyung, \"평(平)은\", m_2, \"제곱미터(m2) 입니다.\")\n",
        "\n",
        "\n",
        "m_2 = int(input(\"제곱미터(m2)를 입력하세요 : \"))\n",
        "\n",
        "pyung = m_2 * 0.3025\n",
        "\n",
        "print(m_2, \"제곱미터(m2)는\", pyung, \"평(平) 입니다.\")"
      ],
      "metadata": {
        "colab": {
          "base_uri": "https://localhost:8080/"
        },
        "id": "kWgtVVQYWSEs",
        "outputId": "69464765-fecc-468f-fa3e-07cf1b2254a0"
      },
      "execution_count": null,
      "outputs": [
        {
          "output_type": "stream",
          "name": "stdout",
          "text": [
            "평(平)을 입력하세요 : 33\n",
            "33 평(平)은 109.09107 제곱미터(m2) 입니다.\n",
            "제곱미터(m2)를 입력하세요 : 143\n",
            "143 제곱미터(m2)는 43.2575 평(平) 입니다.\n"
          ]
        }
      ]
    },
    {
      "cell_type": "markdown",
      "source": [
        "## 6주차 1강 < 여러 개의 대입 연산자 실습하기 > "
      ],
      "metadata": {
        "id": "g3o_XbgVYff5"
      }
    },
    {
      "cell_type": "code",
      "source": [
        "# 정상적인 대입 방법\n",
        "num1, num2 = 100, 200\n",
        "\n",
        "num1, num2 = 100*200, 100+200\n",
        "\n",
        "num1, num2 = int(\"100\"), 100//5\n",
        "\n",
        "# 비정상적인 대입 방법\n",
        "\n",
        "#num1 = 100, 200\n",
        "\n",
        "#num1, num2 = 100\n",
        "\n",
        "#num1, num2, num3 = 100, 200\n",
        "\n",
        "a, b, c = 10\n",
        "\n",
        "\n"
      ],
      "metadata": {
        "id": "85BU2HChZnuC"
      },
      "execution_count": null,
      "outputs": []
    },
    {
      "cell_type": "markdown",
      "source": [
        "## 6주차 2강 < 복합 대입 연산자 실습하기 >"
      ],
      "metadata": {
        "id": "2MzVsdcudbRy"
      }
    },
    {
      "cell_type": "code",
      "source": [
        "num1 = 100\n",
        "\n",
        "num1 += 200 # num1 = num1 + 200\n",
        "\n",
        "print(num1)\n",
        "\n",
        "\n",
        "num = 20\n",
        "\n",
        "num += 3; print(num) # num = num + 3\n",
        "num -= 3; print(num) # num = num - 3\n",
        "num *= 3; print(num) # num = num * 3\n",
        "num /= 3; print(num) # num = num / 3\n",
        "num //= 3; print(num) # num = num // 3\n",
        "num %= 3; print(num) # num = num % 3\n",
        "num **= 3; print(num) # num = num ** 3"
      ],
      "metadata": {
        "colab": {
          "base_uri": "https://localhost:8080/"
        },
        "id": "syXovlZBd2SK",
        "outputId": "5dbd80f8-aa43-4f80-d9ca-43a551c6f439"
      },
      "execution_count": null,
      "outputs": [
        {
          "output_type": "stream",
          "name": "stdout",
          "text": [
            "300\n",
            "23\n",
            "20\n",
            "60\n",
            "20.0\n",
            "6.0\n",
            "0.0\n",
            "0.0\n"
          ]
        }
      ]
    },
    {
      "cell_type": "code",
      "source": [
        "# 복합 대입 연산자의 활용\n",
        "\n",
        "# a *= 3 + 2의 결과는? (연산순서 주의)\n",
        "\n",
        "a = 10\n",
        "print('a ==>', a)\n",
        "\n",
        "a *= 3 + 2\n",
        "\n",
        "# a = a * 3 + 2 일까요?  32\n",
        "# a = a * (3 + 2) 일까요? 50\n",
        "\n",
        "print('a ==>', a)\n",
        "\n",
        "# 대입 연산자는 우변이 제일 먼저 계산\n",
        "\n"
      ],
      "metadata": {
        "colab": {
          "base_uri": "https://localhost:8080/"
        },
        "id": "1mk43uRTvIy4",
        "outputId": "e929a899-e3ce-4192-907a-c708d45906df"
      },
      "execution_count": null,
      "outputs": [
        {
          "output_type": "stream",
          "name": "stdout",
          "text": [
            "a ==> 10\n",
            "a ==> 50\n"
          ]
        }
      ]
    },
    {
      "cell_type": "markdown",
      "source": [
        "## 6주차 3강 < [LAB] 편의점 하루 매출 계산하기 >"
      ],
      "metadata": {
        "id": "QpcmewqOhsbK"
      }
    },
    {
      "cell_type": "code",
      "source": [
        "# 2. 총 매출액 변수 total을 0으로 초기화\n",
        "\n",
        "total = 0\n",
        "\n",
        "# 3. 구입한 물품은 구입 가격에 개수를 곱한 후 총 매출액에서 빼기\n",
        "# 삼각김밥(900) 10개 구입\n",
        "# 도시락(3500원) 5개 구입\n",
        "\n",
        "total -= 900*10 # total = total - 900 * 10\n",
        "total -= 3500*5 # total = total - 3500 * 5\n",
        "\n",
        "# 4. 판매한 물품은 판매 가격에 개수를 곱한 후, 총 매출액에 더하기\n",
        "# 바나나맛 우유(1800) 2개 판매\n",
        "# 도시락(4000원) 4개 판매\n",
        "# 콜라(1500원) 1개 판매\n",
        "# 새우깡(2000원) 4개 판매\n",
        "# 캔커피(1800원) 5개 판매\n",
        "\n",
        "total += 1800*2 # total = total + 1800 * 2\n",
        "total += 4000*4\n",
        "total += 1500*1\n",
        "total += 2000*4\n",
        "total += 1800*5\n",
        "\n",
        "# 5. 총 매출액을 출력하기\n",
        "\n",
        "print(\"오늘 총 매출액은\", total, \"원 입니다. \")\n"
      ],
      "metadata": {
        "colab": {
          "base_uri": "https://localhost:8080/"
        },
        "id": "2WgSf0XCl1YJ",
        "outputId": "917b924e-05e7-429b-cce8-3183a686caf2"
      },
      "execution_count": null,
      "outputs": [
        {
          "output_type": "stream",
          "name": "stdout",
          "text": [
            "오늘 총 매출액은 11600 원 입니다. \n"
          ]
        }
      ]
    },
    {
      "cell_type": "code",
      "source": [
        "prompt = \"\"\"\n",
        "1. 구입\n",
        "2. 판매\n",
        "3. 현 매출액\n",
        "4. Quit(종료)\n",
        "\n",
        "Enter Number : \"\"\"\n",
        "\n",
        "total = 0\n",
        "number = 0\n",
        "\n",
        "while number != 4:\n",
        "  print(prompt)\n",
        "  number = int(input())\n",
        "  if number == 1:\n",
        "    total -= int(input(\"금액을 입력하세요 ==> \"))\n",
        "    print(\"현재 총 매출액은 \", total, \"원 입니다.\")\n",
        "  elif number == 2:\n",
        "    total += int(input(\"금액을 입려하세요 ==> \"))\n",
        "    print(\"현재 총 매출액은 \", total, \"원 입니다.\")\n",
        "  elif number == 3:\n",
        "    print(\"현재 총 매출액은 \", total, \"원 입니다.\")\n",
        "  else : \n",
        "    print(\"오늘의 총 매출액은 \", total,\"원 입니다.\")\n"
      ],
      "metadata": {
        "colab": {
          "base_uri": "https://localhost:8080/"
        },
        "id": "yzYBk2Gcq3Nx",
        "outputId": "3c60402c-a866-45e6-f710-11f8e4927771"
      },
      "execution_count": null,
      "outputs": [
        {
          "output_type": "stream",
          "name": "stdout",
          "text": [
            "\n",
            "1. 구입\n",
            "2. 판매\n",
            "3. 현 매출액\n",
            "4. Quit(종료)\n",
            "\n",
            "Enter Number : \n",
            "1\n",
            "금액을 입력하세요 ==> 1000\n",
            "현재 총 매출액은  -1000 원 입니다.\n",
            "\n",
            "1. 구입\n",
            "2. 판매\n",
            "3. 현 매출액\n",
            "4. Quit(종료)\n",
            "\n",
            "Enter Number : \n",
            "1\n",
            "금액을 입력하세요 ==> 3000\n",
            "현재 총 매출액은  -4000 원 입니다.\n",
            "\n",
            "1. 구입\n",
            "2. 판매\n",
            "3. 현 매출액\n",
            "4. Quit(종료)\n",
            "\n",
            "Enter Number : \n",
            "2\n",
            "금액을 입려하세요 ==> 500\n",
            "현재 총 매출액은  -3500 원 입니다.\n",
            "\n",
            "1. 구입\n",
            "2. 판매\n",
            "3. 현 매출액\n",
            "4. Quit(종료)\n",
            "\n",
            "Enter Number : \n",
            "2\n",
            "금액을 입려하세요 ==> 6000\n",
            "현재 총 매출액은  2500 원 입니다.\n",
            "\n",
            "1. 구입\n",
            "2. 판매\n",
            "3. 현 매출액\n",
            "4. Quit(종료)\n",
            "\n",
            "Enter Number : \n",
            "4\n",
            "오늘의 총 매출액은  2500 원 입니다.\n"
          ]
        }
      ]
    },
    {
      "cell_type": "markdown",
      "source": [
        "## 7주차 1강 < 비교연산자의 활용 >"
      ],
      "metadata": {
        "id": "Cqh3FvX8SC2_"
      }
    },
    {
      "cell_type": "code",
      "source": [
        "score = int(input(\"필기 시험점수를 입력하세요 ==> \"))\n",
        "\n",
        "print(score >= 70)"
      ],
      "metadata": {
        "colab": {
          "base_uri": "https://localhost:8080/"
        },
        "id": "F9vKVIvJSLyt",
        "outputId": "62fb4496-d2ec-4254-f478-755fe34d6208"
      },
      "execution_count": null,
      "outputs": [
        {
          "output_type": "stream",
          "name": "stdout",
          "text": [
            "필기 시험점수를 입력하세요 ==> 70\n",
            "True\n"
          ]
        }
      ]
    },
    {
      "cell_type": "code",
      "source": [
        "## == 같다\n",
        "## != 같지 않다\n",
        "## > 크다, >= 크거나 같다\n",
        "## < 작다, <= 작거나 같다\n",
        "\n",
        "n1 = 100\n",
        "n2 = 100\n",
        "\n",
        "print(n1 == n2, n1 != n2)\n",
        "\n",
        "print(n1 > n2, n1 < n2 )\n",
        "\n",
        "print(n1 >= n2, n1 <= n2)"
      ],
      "metadata": {
        "colab": {
          "base_uri": "https://localhost:8080/"
        },
        "id": "G2pcbKoaTsaw",
        "outputId": "4783c791-8b64-4981-b364-ba8e8b370414"
      },
      "execution_count": null,
      "outputs": [
        {
          "output_type": "stream",
          "name": "stdout",
          "text": [
            "True False\n",
            "False False\n",
            "True True\n"
          ]
        }
      ]
    },
    {
      "cell_type": "markdown",
      "source": [
        "## 7주차 2강 < 논리연산자의 활용 >"
      ],
      "metadata": {
        "id": "875nNfGZVeJI"
      }
    },
    {
      "cell_type": "code",
      "source": [
        "# 만약 num 변수의 값이 10과 20사이에 있어야 한다. \n",
        "# num은 10보다 커야 한다. (참)\n",
        "# num은 20보다 작아야 한다. (참)\n",
        "\n",
        "(num > 10) and (num < 20)\n",
        "\n",
        "# and : 둘 다 참이어야 참\n",
        " (num > 10) and (num < 20)\n",
        "# or : 둘 중에 하나만 참이어도 참\n",
        " (num == 10) or (num == 20)\n",
        "# not : 부정(NOT), 참이면 거짓, 거짓이면 참\n",
        " not(num < 100)"
      ],
      "metadata": {
        "id": "-eTorPmMVkqQ"
      },
      "execution_count": null,
      "outputs": []
    },
    {
      "cell_type": "code",
      "source": [
        "num = 99\n",
        "\n",
        "# AND\n",
        "(num > 100) and (num < 200) # false and true\n",
        "\n",
        "# OR\n",
        "(num == 99) or (num == 100) # true or false\n",
        "\n",
        "# NOT\n",
        "not(num == 100) # not(false)"
      ],
      "metadata": {
        "colab": {
          "base_uri": "https://localhost:8080/"
        },
        "id": "w_VuMY0XWbPo",
        "outputId": "70e8fb9f-1367-4ada-fb4f-e485cb594974"
      },
      "execution_count": null,
      "outputs": [
        {
          "output_type": "execute_result",
          "data": {
            "text/plain": [
              "True"
            ]
          },
          "metadata": {},
          "execution_count": 12
        }
      ]
    },
    {
      "cell_type": "markdown",
      "source": [
        "## 7주차 3강 < [LAB] 기말 평균 학점 구하기 >"
      ],
      "metadata": {
        "id": "ipHBQFuNYg_Q"
      }
    },
    {
      "cell_type": "code",
      "source": [
        "# 2. 파이썬, 모바일, 엑셀 변수에 각각의 이수학점을 넣어 선언하기\n",
        "\n",
        "python, mobile, excel = 3, 2, 1\n",
        "\n",
        "# 3. A, A0, B 학점에 대응하는 점수를 넣어 선언하기\n",
        "A = 4.5\n",
        "A0 = 4.0\n",
        "B = 3.5\n",
        "\n",
        "# 4. 과목과 해당하는 점수를 곱하여, 전체 학점 점수로 나누기\n",
        "\n",
        "avg = ((python * B) + (mobile * A0) + (excel * A)) / (python + mobile + excel)\n",
        "          # (A + B + C) / D\n",
        "\n",
        "# 5. 평균 학점을 출력\n",
        "print(\"평균 학점 : \", avg)"
      ],
      "metadata": {
        "colab": {
          "base_uri": "https://localhost:8080/"
        },
        "id": "7PbYOwnNZqQY",
        "outputId": "46d2f31d-6c7a-45b9-9208-c8ac97e0e2a1"
      },
      "execution_count": null,
      "outputs": [
        {
          "output_type": "stream",
          "name": "stdout",
          "text": [
            "평균 학점 :  3.8333333333333335\n"
          ]
        }
      ]
    },
    {
      "cell_type": "markdown",
      "source": [
        "## 9주차 1강 < 데이터형 확인하기(type()) >"
      ],
      "metadata": {
        "id": "Re6ovZlfeRzQ"
      }
    },
    {
      "cell_type": "code",
      "source": [
        "# 정수형 : int\n",
        "# 실수형 : float\n",
        "# 문자형 : str\n",
        "# 불형 : bool \n",
        "\n",
        "var1 = 100\n",
        "\n",
        "type(var1)\n",
        "\n",
        "var2 = 3.14\n",
        "\n",
        "type(var2)\n",
        "\n",
        "var3 = \"파이썬\"\n",
        "\n",
        "type(var3)\n",
        "\n",
        "var4 = False #True\n",
        "\n",
        "type(var4)\n",
        "\n",
        "var1 = 100\n",
        "type(var1)\n",
        "\n",
        "var1 = \"Hello\"\n",
        "type(var1)\n",
        "\n",
        "# C, Java, C++, C#\n",
        "var1 = \"Hello\""
      ],
      "metadata": {
        "colab": {
          "base_uri": "https://localhost:8080/"
        },
        "id": "bZfRTfDreV-Q",
        "outputId": "90d4c8ca-c9e0-45bf-8ec1-5f5d163eaf41"
      },
      "execution_count": null,
      "outputs": [
        {
          "output_type": "execute_result",
          "data": {
            "text/plain": [
              "str"
            ]
          },
          "metadata": {},
          "execution_count": 33
        }
      ]
    },
    {
      "cell_type": "markdown",
      "source": [
        "## 9주차 2강 < 숫자 데이터 형식 이해하기 >"
      ],
      "metadata": {
        "id": "qQ7Uravmi9Oo"
      }
    },
    {
      "cell_type": "code",
      "source": [
        "# 정수형(int)\n",
        "# 실수형(float)\n",
        "\n",
        "# 1. 정수형 : 소수점이 없는 수, 10, -300, 0\n",
        "\n",
        "# var1 = 1000 ** 1000\n",
        "# type(var1)\n",
        "\n",
        "# print(var1)\n",
        "\n",
        "# 2. 실수형 : 소수점이 있는 수, 3.14, -8.8\n",
        "var2 = 0.0\n",
        "type(var2)\n",
        "\n",
        "# 3. 정수형과 실수형을 계산한 결과의 데이터형은 무엇인가?\n",
        "\n",
        "# var1 = 100\n",
        "# var2 = 200\n",
        "# res = var1 + var2\n",
        "# print(res)\n",
        "\n",
        "# type(res)\n",
        "\n",
        "# var1 = 100.0\n",
        "# var2 = 200.0\n",
        "# res = var1 - var2\n",
        "# print(res)\n",
        "\n",
        "# type(res)\n",
        "\n",
        "# var1 = 100.0\n",
        "# var2 = 200\n",
        "# res = var1 * var2\n",
        "# print(res)\n",
        "\n",
        "# type(res)\n",
        "\n",
        "var1 = 200\n",
        "var2 = 200\n",
        "res = var1 / var2\n",
        "print(res)\n",
        "\n",
        "type(res)\n",
        "\n",
        "bool(0)"
      ],
      "metadata": {
        "colab": {
          "base_uri": "https://localhost:8080/"
        },
        "id": "JlVZlYDJjBUn",
        "outputId": "049ac86b-fe29-436a-9293-a8b33fb96b2b"
      },
      "execution_count": null,
      "outputs": [
        {
          "output_type": "stream",
          "name": "stdout",
          "text": [
            "1.0\n"
          ]
        },
        {
          "output_type": "execute_result",
          "data": {
            "text/plain": [
              "False"
            ]
          },
          "metadata": {},
          "execution_count": 49
        }
      ]
    },
    {
      "cell_type": "markdown",
      "source": [
        "## 9주차 3강 < 문자열, 불데이터 형식 >"
      ],
      "metadata": {
        "id": "doin7V1ToLRo"
      }
    },
    {
      "cell_type": "code",
      "source": [
        "# 1. 문자열(String, str) : 글자들의 집합, \"파이썬\", 'python', '123' \n",
        "\n",
        "# var1 = '1234'\n",
        "# print(var1)\n",
        "\n",
        "# type(var1)\n",
        "\n",
        "# var1 = '난생처음 파이썬'\n",
        "# print(var1)\n",
        "\n",
        "# type(var1)\n",
        "\n",
        "# var1 = '''난생처음 파이썬\n",
        "# 난생처음 파이썬\n",
        "# 난생처음 파이썬\n",
        "# '''\n",
        "# print(var1)\n",
        "\n",
        "# type(var1)\n",
        "\n",
        "# 2. 불형(Bool) : 참(True)이나 거짓(False)만 저장할 수 있는 데이터 형식(논리형), if문 주로 사용\n",
        "\n",
        "# var1 = (100 > 10)\n",
        "# print(var1)\n",
        "\n",
        "# type(var1)\n",
        "\n",
        "# var2 = (100 <= 20)\n",
        "# print(var2)\n",
        "\n",
        "# type(var2)\n",
        "\n",
        "bool(0)\n",
        "\n",
        "bool(\"\")"
      ],
      "metadata": {
        "colab": {
          "base_uri": "https://localhost:8080/"
        },
        "id": "urOkJ16ToQOF",
        "outputId": "4aaa342b-454b-48da-d165-e50019b12820"
      },
      "execution_count": null,
      "outputs": [
        {
          "output_type": "execute_result",
          "data": {
            "text/plain": [
              "False"
            ]
          },
          "metadata": {},
          "execution_count": 70
        }
      ]
    },
    {
      "cell_type": "markdown",
      "source": [
        "## 10주차 1강 < 문자열 활용하기 >"
      ],
      "metadata": {
        "id": "nXZfXlzwtIOO"
      }
    },
    {
      "cell_type": "markdown",
      "source": [
        "### (1) 문자열 만들기"
      ],
      "metadata": {
        "id": "Z-CI5oBm6hrn"
      }
    },
    {
      "cell_type": "code",
      "source": [
        "var1 = '''난생처음\n",
        "파이썬을\n",
        "열공 중입니다.'''\n",
        "\n",
        "print(var1)\n",
        "\n",
        "var1 = \"난생처음\"\n",
        "var2 = \"파이썬을\"\n",
        "var3 = \"열공중입니다.\"\n",
        "print(var1)\n",
        "print(var2)\n",
        "print(var3)"
      ],
      "metadata": {
        "colab": {
          "base_uri": "https://localhost:8080/"
        },
        "id": "QG-VOMGX60-d",
        "outputId": "4e52a18c-59ff-4d10-a5e5-54e8a11b6210"
      },
      "execution_count": null,
      "outputs": [
        {
          "output_type": "stream",
          "name": "stdout",
          "text": [
            "난생처음\n",
            "파이썬을\n",
            "열공 중입니다.\n",
            "난생처음\n",
            "파이썬을\n",
            "열공중입니다.\n"
          ]
        }
      ]
    },
    {
      "cell_type": "markdown",
      "source": [
        "###(2) 이스케이프 문자 활용하기"
      ],
      "metadata": {
        "id": "E-a1WEM96m0X"
      }
    },
    {
      "cell_type": "code",
      "source": [
        "var1 = \"\"\"난생\n",
        "처음\"\"\"\n",
        "print(var1)\n",
        "\n",
        "var2 = \"난생\\n처음\"\n",
        "print(var2)\n",
        "\n",
        "# \\n : 새로운 줄로 이동\n",
        "# \\t : 다음 탭으로 이동\n",
        "# \\b : 뒤로 한칸 이동\n",
        "# \\' : '를 출력\n",
        "# \\\" : \"를 출력\n",
        "# \\\\ : \\를 출력\n",
        "\n",
        "print(\"\\n줄바꿈\\n연습\")\n",
        "print(\"\\t탭키\\t연습\")\n",
        "print(\"어떤 글자를 \\\"강조\\\"하는 효과1\")\n",
        "print(\"어떤 글자를 \\'강조\\'하는 효과2\")\n",
        "print(\"\\\\\\\\백슬래시 2개 출력\")"
      ],
      "metadata": {
        "colab": {
          "base_uri": "https://localhost:8080/"
        },
        "id": "lMkQoOZc70an",
        "outputId": "cea9a54d-512a-452a-cd81-65eaa68f0686"
      },
      "execution_count": null,
      "outputs": [
        {
          "output_type": "stream",
          "name": "stdout",
          "text": [
            "난생\n",
            "처음\n",
            "난생\n",
            "처음\n",
            "\n",
            "줄바꿈\n",
            "연습\n",
            "\t탭키\t연습\n",
            "어떤 글자를 \"강조\"하는 효과1\n",
            "어떤 글자를 '강조'하는 효과2\n",
            "\\\\백슬래시 2개 출력\n"
          ]
        }
      ]
    },
    {
      "cell_type": "markdown",
      "source": [
        "###(3) 문자열 연결하기"
      ],
      "metadata": {
        "id": "YVwI4tAd6qyf"
      }
    },
    {
      "cell_type": "code",
      "source": [
        "#var1 = \"난생 \" / \"처음 \" / \"파이썬\"\n",
        "#print(var1)\n",
        "\n",
        "var1 = \"난생\" * 3\n",
        "print(var1)\n"
      ],
      "metadata": {
        "colab": {
          "base_uri": "https://localhost:8080/"
        },
        "id": "Qy36wz8H9t0P",
        "outputId": "d7b47603-9900-4ca5-f667-08b60dda859c"
      },
      "execution_count": null,
      "outputs": [
        {
          "output_type": "stream",
          "name": "stdout",
          "text": [
            "난생난생난생\n"
          ]
        }
      ]
    },
    {
      "cell_type": "markdown",
      "source": [
        "## 10주차 2강 < 문자열과 관련된 유용한 함수 >"
      ],
      "metadata": {
        "id": "ZGUES2i1-dX3"
      }
    },
    {
      "cell_type": "code",
      "source": [
        "# len() : 문자열의 길이를 파악할 때 사용함\n",
        "\n",
        "var1 = \"난생처음! Python\"\n",
        "len(var1)\n",
        "\n",
        "var1 = input(\"첫 번째 문자열 ==>\")\n",
        "var2 = input(\"두 번째 문자열 ==>\")\n",
        "\n",
        "len1 = len(var1)\n",
        "len2 = len(var2)\n",
        "\n",
        "diff = len1 - len2\n",
        "\n",
        "print(\"두 문자열의 길이 차이는\", diff, \"입니다.\")"
      ],
      "metadata": {
        "colab": {
          "base_uri": "https://localhost:8080/"
        },
        "id": "kt_z9qgj-pUH",
        "outputId": "0838c8a4-6b95-4b01-c639-d48405023bd1"
      },
      "execution_count": null,
      "outputs": [
        {
          "output_type": "stream",
          "name": "stdout",
          "text": [
            "FIRST PYTHON을 밤 12시까지 열공 중!\n",
            "first python을 밤 12시까지 열공 중!\n"
          ]
        }
      ]
    },
    {
      "cell_type": "code",
      "source": [
        "# upper(), lower()　: 영문 소문자 대문자를 상호 변환\n",
        "\n",
        "ss = \"First Python을 밤 12시까지 열공 중!\"\n",
        "var1 = ss.upper()\n",
        "print(var1)\n",
        "\n",
        "var2 = ss.lower()\n",
        "print(var2)"
      ],
      "metadata": {
        "colab": {
          "base_uri": "https://localhost:8080/"
        },
        "id": "qY1oabdDAo93",
        "outputId": "fca7d6c6-acbe-4cc3-8fab-62e76c10b8cb"
      },
      "execution_count": null,
      "outputs": [
        {
          "output_type": "stream",
          "name": "stdout",
          "text": [
            "FIRST PYTHON을 밤 12시까지 열공 중!\n",
            "first python을 밤 12시까지 열공 중!\n"
          ]
        }
      ]
    },
    {
      "cell_type": "code",
      "source": [
        "# isupper() : 문자열이 모두 대문자이면 True\n",
        "# islower() : 문자열이 모두 소문자이면 True \n",
        "\n",
        "ss = \"first python\"\n",
        "ss.isupper()\n",
        "\n",
        "ss.islower()"
      ],
      "metadata": {
        "colab": {
          "base_uri": "https://localhost:8080/"
        },
        "id": "BLbIpsAgAuuP",
        "outputId": "b373b196-0822-4012-fba0-c9171331da17"
      },
      "execution_count": null,
      "outputs": [
        {
          "output_type": "execute_result",
          "data": {
            "text/plain": [
              "True"
            ]
          },
          "metadata": {},
          "execution_count": 26
        }
      ]
    },
    {
      "cell_type": "code",
      "source": [
        "# count() : 어떤 글자가 몇 번 나왔는지 확인\n",
        "ss = \"난생처음 파이썬을 처음으로 학습 중입니다. 파이썬은 처음이지만 재미있네요. ^^\"\n",
        "\n",
        "ss.count(\"처음\")"
      ],
      "metadata": {
        "colab": {
          "base_uri": "https://localhost:8080/"
        },
        "id": "KhQlL_HrBISg",
        "outputId": "bc8f0163-56d1-433d-d6ba-d608bed51d4d"
      },
      "execution_count": null,
      "outputs": [
        {
          "output_type": "execute_result",
          "data": {
            "text/plain": [
              "3"
            ]
          },
          "metadata": {},
          "execution_count": 27
        }
      ]
    },
    {
      "cell_type": "code",
      "source": [
        "# find() : 어떤 글자가 몇 번째 위치하는지 확인\n",
        "\n",
        "# ss = \"난생처음 Python\"\n",
        "# ss.find(\"P\")\n",
        "\n",
        "ss = \"난생처음으로 공부하는게 처음이네요\"\n",
        "ss.find(\"처음\", 4) # find(\"찾을 단어\", 시작위치)"
      ],
      "metadata": {
        "colab": {
          "base_uri": "https://localhost:8080/"
        },
        "id": "7UQ_vV_vBZq3",
        "outputId": "62a47d72-5497-4edc-a49f-eea9f41cb77e"
      },
      "execution_count": null,
      "outputs": [
        {
          "output_type": "execute_result",
          "data": {
            "text/plain": [
              "13"
            ]
          },
          "metadata": {},
          "execution_count": 33
        }
      ]
    },
    {
      "cell_type": "markdown",
      "source": [],
      "metadata": {
        "id": "c5tfabZ7Csew"
      }
    },
    {
      "cell_type": "markdown",
      "source": [
        "## 10주차 3강 < 문자열 위치에 접근하기, [LAB] >"
      ],
      "metadata": {
        "id": "dqEHd55qCtvR"
      }
    },
    {
      "cell_type": "markdown",
      "source": [
        "### (1) 문자열 위치에 접근하기"
      ],
      "metadata": {
        "id": "LdcIqQxuC0WI"
      }
    },
    {
      "cell_type": "code",
      "source": [
        "# 문자열[번호]\n",
        "\n",
        "ss = \"Python\"\n",
        "\n",
        "len(ss)\n",
        "\n",
        "print(ss[6])"
      ],
      "metadata": {
        "colab": {
          "base_uri": "https://localhost:8080/",
          "height": 201
        },
        "id": "xy3qWhF9C54A",
        "outputId": "6f4aebfb-012c-4268-9978-18a3699831e1"
      },
      "execution_count": null,
      "outputs": [
        {
          "output_type": "error",
          "ename": "IndexError",
          "evalue": "ignored",
          "traceback": [
            "\u001b[0;31m---------------------------------------------------------------------------\u001b[0m",
            "\u001b[0;31mIndexError\u001b[0m                                Traceback (most recent call last)",
            "\u001b[0;32m<ipython-input-42-d28e890c5fa6>\u001b[0m in \u001b[0;36m<module>\u001b[0;34m()\u001b[0m\n\u001b[1;32m      5\u001b[0m \u001b[0mlen\u001b[0m\u001b[0;34m(\u001b[0m\u001b[0mss\u001b[0m\u001b[0;34m)\u001b[0m\u001b[0;34m\u001b[0m\u001b[0;34m\u001b[0m\u001b[0m\n\u001b[1;32m      6\u001b[0m \u001b[0;34m\u001b[0m\u001b[0m\n\u001b[0;32m----> 7\u001b[0;31m \u001b[0mprint\u001b[0m\u001b[0;34m(\u001b[0m\u001b[0mss\u001b[0m\u001b[0;34m[\u001b[0m\u001b[0;36m6\u001b[0m\u001b[0;34m]\u001b[0m\u001b[0;34m)\u001b[0m\u001b[0;34m\u001b[0m\u001b[0;34m\u001b[0m\u001b[0m\n\u001b[0m",
            "\u001b[0;31mIndexError\u001b[0m: string index out of range"
          ]
        }
      ]
    },
    {
      "cell_type": "markdown",
      "source": [
        "### (2) [LAB] 문자열을 거꾸로 출력하는 프로그램"
      ],
      "metadata": {
        "id": "pfuUmAfuC3GA"
      }
    },
    {
      "cell_type": "code",
      "source": [
        "# 1. ss 변수에 문자열 '트와이스'를 저장하기 \n",
        "ss = \"트와이스\"\n",
        "print(\"원본 문자열 ==> \",ss)\n",
        "\n",
        "# 2. 반대 방향으로 출력될 문자열을 표시하기\n",
        "print(\"반대 문자열 ==> \", end='') # end='' : 다음 행으로 넘어가서 출력되는 것을 방지\n",
        "\n",
        "# 3. 마지막 글자인 ss[3]부터 출력하기\n",
        "print(ss[3], end='')\n",
        "print(ss[2], end='')\n",
        "print(ss[1], end='')\n",
        "print(ss[0], end='')\n"
      ],
      "metadata": {
        "colab": {
          "base_uri": "https://localhost:8080/"
        },
        "id": "adYo64ChEeuI",
        "outputId": "b87d8216-5a28-47cb-b4c6-75067874d6f7"
      },
      "execution_count": null,
      "outputs": [
        {
          "output_type": "stream",
          "name": "stdout",
          "text": [
            "원본 문자열 ==>  트와이스\n",
            "반대 문자열 ==> 스이와트"
          ]
        }
      ]
    },
    {
      "cell_type": "code",
      "source": [
        "\n",
        "ss = input(\"원본 문자열 ==> \")\n",
        "\n",
        "len1 = len(ss) #파이썬 = 3\n",
        "\n",
        "print(\"반대 문자열 ==> \", end='')\n",
        "for i in range(len1):\n",
        "  print(ss[len1-(i+1)], end='')\n"
      ],
      "metadata": {
        "colab": {
          "base_uri": "https://localhost:8080/"
        },
        "id": "vaDHVeZHGt-Y",
        "outputId": "6c89da8a-9893-4e62-b6fe-85eedac2e548"
      },
      "execution_count": null,
      "outputs": [
        {
          "output_type": "stream",
          "name": "stdout",
          "text": [
            "원본 문자열 ==> 파이썬은 재미있습니다. \n",
            "반대 문자열 ==>  .다니습있미재 은썬이파"
          ]
        }
      ]
    },
    {
      "cell_type": "markdown",
      "source": [
        "## 11주차 2강 < if문 실습 >"
      ],
      "metadata": {
        "id": "UwRozEBGIrrJ"
      }
    },
    {
      "cell_type": "code",
      "source": [
        "# 1. if문의 사용 형식\n",
        "\n",
        "num = 99\n",
        "\n",
        "if num < 100 :\n",
        "  print(\"100보다 작습니다.\")\n",
        "\n",
        "# 2. 조건이 참일 때 실행할 문장이 2개인 경우\n",
        "\n",
        "num = 200\n",
        "\n",
        "if num > 100 :\n",
        "    print(\"100보다\")\n",
        "    print(\"큽니다.\")\n",
        "print(\"프로그램 끝\")"
      ],
      "metadata": {
        "colab": {
          "base_uri": "https://localhost:8080/"
        },
        "id": "LlKZoskNJWRY",
        "outputId": "e36ff65e-b191-475b-be76-722c97b93029"
      },
      "execution_count": null,
      "outputs": [
        {
          "output_type": "stream",
          "name": "stdout",
          "text": [
            "100보다 작습니다.\n",
            "100보다\n",
            "큽니다.\n",
            "프로그램 끝\n"
          ]
        }
      ]
    },
    {
      "cell_type": "markdown",
      "source": [
        "## 11주차 3강 < if~else문 실습 >"
      ],
      "metadata": {
        "id": "mhka_Dk2MDCC"
      }
    },
    {
      "cell_type": "code",
      "source": [
        "# 1. if~else문의 사용 형식\n",
        "\n",
        "num = int(input(\"숫자를 입력하시오.==> \"))\n",
        "\n",
        "if num < 100 : # 99 : 참\n",
        "  print(\"100보다 작군요.\")\n",
        "else :\n",
        "  print(\"100보다 크군요.\")\n",
        "print(\"프로그램 끝~!\")\n"
      ],
      "metadata": {
        "colab": {
          "base_uri": "https://localhost:8080/"
        },
        "id": "CX5JWXFkMNsK",
        "outputId": "d94cd630-f05c-4e16-8645-367c1affea4d"
      },
      "execution_count": null,
      "outputs": [
        {
          "output_type": "stream",
          "name": "stdout",
          "text": [
            "숫자를 입력하시오.==> 100\n",
            "100보다 크군요.\n",
            "프로그램 끝~!\n"
          ]
        }
      ]
    },
    {
      "cell_type": "code",
      "source": [
        "# 2. if~else문 사용 예제\n",
        "\n",
        "num = int(input(\"숫자를 입력 ==> \"))\n",
        "\n",
        "if num % 2 == 0 :\n",
        "  print(\"짝수입니다.\")\n",
        "else :\n",
        "  print(\"홀수입니다.\")"
      ],
      "metadata": {
        "colab": {
          "base_uri": "https://localhost:8080/"
        },
        "id": "Fo3LgIMgOqK7",
        "outputId": "386bf152-4514-4379-fc0e-0641c3676d44"
      },
      "execution_count": null,
      "outputs": [
        {
          "output_type": "stream",
          "name": "stdout",
          "text": [
            "숫자를 입력 ==> 31\n",
            "홀수입니다.\n"
          ]
        }
      ]
    },
    {
      "cell_type": "markdown",
      "source": [
        "## 12주차 1강 < 중첩 if문 >"
      ],
      "metadata": {
        "id": "3g-p_bwj12dq"
      }
    },
    {
      "cell_type": "markdown",
      "source": [
        "###(1) 중첩 if문 활용(1)"
      ],
      "metadata": {
        "id": "TvKQvfLy30bj"
      }
    },
    {
      "cell_type": "code",
      "source": [
        "# ‘100보다 작다’, ‘100에서 1000사이다’, ‘1000보다 크다’로 구분하는 코드\n",
        "\n",
        "num = int(input(\"숫자를 입력 ==> \"))\n",
        "\n",
        "if num > 100 : \n",
        "  if num < 1000 :\n",
        "    print(\"100보다는 크고 1000보다 작군요.\")\n",
        "  else :\n",
        "    print(\"와~ 1000보다 크군요.\")\n",
        "else :\n",
        "  print(\"음~ 100보다 작군요\")"
      ],
      "metadata": {
        "colab": {
          "base_uri": "https://localhost:8080/"
        },
        "id": "bPhF1CCB3-bk",
        "outputId": "4a16a6b1-f9e9-4e16-b96b-0c4308089ca1"
      },
      "execution_count": null,
      "outputs": [
        {
          "output_type": "stream",
          "name": "stdout",
          "text": [
            "숫자를 입력 ==> 1500\n",
            "와~ 1000보다 크군요.\n"
          ]
        }
      ]
    },
    {
      "cell_type": "markdown",
      "source": [
        "###(2) 중첩 if문 활용(2)"
      ],
      "metadata": {
        "id": "2Mik3iLr33Lz"
      }
    },
    {
      "cell_type": "code",
      "source": [
        "# 90점 이상은 A, 80점 이상은 B, 70점 이상은 C, 60점 이상은 D, 그 외에는 F로 처리하는 프로그램\n",
        "\n",
        "score = int(input(\"점수를 입력 ==>\"))\n",
        "\n",
        "if score >= 90 :\n",
        "  print(\"A\", end='')\n",
        "else :\n",
        "  if score >= 80 :\n",
        "    print(\"B\",end='')\n",
        "  else :\n",
        "    if score >=70 :\n",
        "      print(\"C\", end='')\n",
        "    else :\n",
        "      if score >= 60:\n",
        "        print(\"D\",end='')\n",
        "      else :\n",
        "        print(\"F\", end='')\n",
        "\n",
        "print(\" 학점 입니다. \")\n",
        "\n"
      ],
      "metadata": {
        "colab": {
          "base_uri": "https://localhost:8080/"
        },
        "id": "8zzS5Iwc3-6b",
        "outputId": "983b6117-bc19-4164-fae6-78d9dac17397"
      },
      "execution_count": null,
      "outputs": [
        {
          "output_type": "stream",
          "name": "stdout",
          "text": [
            "점수를 입력 ==>65\n",
            "D 학점 입니다. \n"
          ]
        }
      ]
    },
    {
      "cell_type": "markdown",
      "source": [
        "## 12주 2강 < elif문 >"
      ],
      "metadata": {
        "id": "wVflnAP77RfO"
      }
    },
    {
      "cell_type": "markdown",
      "source": [
        "###(1) elif문 활용"
      ],
      "metadata": {
        "id": "PHbNQRnr7kq-"
      }
    },
    {
      "cell_type": "code",
      "source": [
        "# 90점 이상은 A, 80점 이상은 B, 70점 이상은 C, 60점 이상은 D, 그 외에는 F로 처리하는 프로그램\n",
        "\n",
        "score = int(input(\"점수를 입력 ==> \"))\n",
        "\n",
        "if score >= 90 :\n",
        "  print(\"A\", end='')\n",
        "elif score >= 80 :\n",
        "  print(\"B\", end='')\n",
        "elif score >= 70 :\n",
        "  print(\"C\", end='')\n",
        "elif score >= 60 :\n",
        "  print(\"D\", end='')\n",
        "else :\n",
        "  print(\"F\", end='')\n",
        "\n",
        "print(\" 학점 입니다. \")"
      ],
      "metadata": {
        "colab": {
          "base_uri": "https://localhost:8080/"
        },
        "id": "XHeSsORC7uu-",
        "outputId": "66607440-c6c1-43ad-fe1a-6b9fa088ed95"
      },
      "execution_count": null,
      "outputs": [
        {
          "output_type": "stream",
          "name": "stdout",
          "text": [
            "점수를 입력 ==> 55\n",
            "F 학점 입니다. \n"
          ]
        }
      ]
    },
    {
      "cell_type": "markdown",
      "source": [
        "###(2) [하나 더+ 알기! ] 랜덤한 값 추출하기"
      ],
      "metadata": {
        "id": "raZzMgie7ob-"
      }
    },
    {
      "cell_type": "code",
      "source": [
        "import random\n",
        "\n",
        "\n",
        "#random.random()\n",
        "\n",
        "#1~45사이에 무작위 수를 추출\n",
        "#random.randint(1,45)\n",
        "\n",
        "# choice() : 여러 개 중 하나를 고름\n",
        "random.choice([\"김밥\", \"떡볶이\", \"돈까스\", \"짜장면\"])\n",
        "\n",
        "random.shuffle"
      ],
      "metadata": {
        "colab": {
          "base_uri": "https://localhost:8080/",
          "height": 35
        },
        "id": "4A5mz2FD-UqQ",
        "outputId": "272d29d4-d4da-4da8-f233-946bb51a34cd"
      },
      "execution_count": null,
      "outputs": [
        {
          "output_type": "execute_result",
          "data": {
            "application/vnd.google.colaboratory.intrinsic+json": {
              "type": "string"
            },
            "text/plain": [
              "'짜장면'"
            ]
          },
          "metadata": {},
          "execution_count": 24
        }
      ]
    },
    {
      "cell_type": "markdown",
      "source": [
        "### 12주 3강 < [LAB] PC방 나이, 가위바위보 게임 >"
      ],
      "metadata": {
        "id": "iPKdgMX2AfF6"
      }
    },
    {
      "cell_type": "markdown",
      "source": [
        "###(1) [LAB] PC방 나이 제한 검사하기"
      ],
      "metadata": {
        "id": "FXAjPX2AAoPS"
      }
    },
    {
      "cell_type": "code",
      "source": [
        "# 1. 나이를 입력받기\n",
        "\n",
        "age = int(input(\"나이를 입력 ==> \"))\n",
        "\n",
        "# 2. 입력받은 나이가 18살 보다 어리다면 집으로 돌려보낸다. \n",
        "\n",
        "if age >= 18 :\n",
        "  print(\"즐거운 시간 되세요 ^^\")\n",
        "else :\n",
        "  print(\"집에 갈 시간이네요!\")\n",
        "\n",
        "print(\"협조 감사합니다. \")"
      ],
      "metadata": {
        "colab": {
          "base_uri": "https://localhost:8080/"
        },
        "id": "WIFQwC-gAuv7",
        "outputId": "d2130485-768e-40a6-b5cb-331877f4d1bb"
      },
      "execution_count": null,
      "outputs": [
        {
          "output_type": "stream",
          "name": "stdout",
          "text": [
            "나이를 입력 ==> 15\n",
            "집에 갈 시간이네요!\n",
            "협조 감사합니다. \n"
          ]
        }
      ]
    },
    {
      "cell_type": "markdown",
      "source": [
        "### (2) [LAB] 가위바위보 게임하기\n"
      ],
      "metadata": {
        "id": "3iv5cC_jArkD"
      }
    },
    {
      "cell_type": "code",
      "source": [
        "# 1. 컴퓨터가 랜덤하게 가위/바위/보를 내도록 random 모듈을 임포트하기\n",
        "\n",
        "import random\n",
        "\n",
        "# 2. 사용자의 가위/바위/보 중 하나를 입력받아 myHand 변수에 저장\n",
        "\n",
        "myHand = input(\"나의 가위/바위/보 ==> \")\n",
        "\n",
        "# 3. 컴퓨터의 가위/바위/보는 랜덤하게 추출하여 comHand에 저장\n",
        "comHand = random.choice([\"가위\", \"바위\", \"보\"])\n",
        "print(\"컴퓨터의 가위/바위/보 ==>\", comHand)\n",
        "\n",
        "if myHand == \"가위\":\n",
        "  if comHand == \"가위\":\n",
        "    print(\"비겼습니다.\")\n",
        "  elif comHand ==\"바위\":\n",
        "    print(\"졌습니다.\")\n",
        "  elif comHand ==\"보\":\n",
        "    print(\"이겼습니다.\")\n",
        "elif myHand == \"바위\":\n",
        "  if comHand == \"가위\":\n",
        "    print(\"이겼습니다.\")\n",
        "  elif comHand ==\"바위\":\n",
        "    print(\"비겼습니다.\")\n",
        "  elif comHand ==\"보\":\n",
        "    print(\"졌습니다.\")\n",
        "elif myHand == \"보\":\n",
        "  if comHand == \"가위\":\n",
        "    print(\"졌습니다.\")\n",
        "  elif comHand ==\"바위\":\n",
        "    print(\"이겼습니다.\")\n",
        "  elif comHand ==\"보\":\n",
        "    print(\"비겼습니다.\")\n",
        "else :\n",
        "  print(\"가위/바위/보 중 하나를 내세요.\")"
      ],
      "metadata": {
        "colab": {
          "base_uri": "https://localhost:8080/"
        },
        "id": "rNDqy6v0AvN5",
        "outputId": "050477c3-208d-431c-9cb5-a41a28693970"
      },
      "execution_count": null,
      "outputs": [
        {
          "output_type": "stream",
          "name": "stdout",
          "text": [
            "나의 가위/바위/보 ==> 가위\n",
            "컴퓨터의 가위/바위/보 ==> 보\n",
            "이겼습니다.\n"
          ]
        }
      ]
    },
    {
      "cell_type": "markdown",
      "source": [
        "## 13주 1강 < for문의 개념 익히기 >"
      ],
      "metadata": {
        "id": "TZncAm5vGXTH"
      }
    },
    {
      "cell_type": "code",
      "source": [
        "# for문의 형식\n",
        "# for 변수 in range(시작값, 끝값+1, 증가값)  1 3+1, 1\n",
        "\n",
        "#for i in range(1, 11, 1) : # range(0, 3, 1) # 0~2 까지 1씩 증가  i = 0,1,2\n",
        "  #print(\"난생처음 파이썬은 재미있습니다. \")\n",
        "  #print(i, \"난생처음 파이썬은 재미있습니다. \")\n",
        "\n",
        "# 1~30까지 숫자들을 차례대로 출력하기\n",
        "for i in range(1, 31, 1):\n",
        "  print(i, end=' ')\n"
      ],
      "metadata": {
        "colab": {
          "base_uri": "https://localhost:8080/"
        },
        "id": "7-acTFnTGgJm",
        "outputId": "7f68dcdd-c54d-4b5b-8624-92e045ff3523"
      },
      "execution_count": null,
      "outputs": [
        {
          "output_type": "stream",
          "name": "stdout",
          "text": [
            "1 2 3 4 5 6 7 8 9 10 11 12 13 14 15 16 17 18 19 20 21 22 23 24 25 26 27 28 29 30 "
          ]
        }
      ]
    },
    {
      "cell_type": "markdown",
      "source": [
        "## 13주 2강 < for문을 이용한 합계 구하기 >"
      ],
      "metadata": {
        "id": "gnobObEqQC_G"
      }
    },
    {
      "cell_type": "code",
      "source": [
        "#for문을 활용한 반복적인 덧셈\n",
        "\n",
        "# 1부터 10까지 변할 변수 i 준비\n",
        "\n",
        "# for 변수 i가 1을 시작으로 10까지 1씩 증가 :\n",
        "#   hap 값에 i값을 더해 줌\n",
        "\n",
        "# hap의 값을 출력\n",
        "\n",
        "i = 0\n",
        "hap = 0\n",
        "\n",
        "for i in range(1,11,1):\n",
        "  hap = hap + i # hap = ? hap = 1 \n",
        "                # 첫번째 : 1 = 0 + 1\n",
        "                # 두번째 : 3 = 1 + 2\n",
        "  print(i, end=' ')\n",
        "  print(hap)\n",
        "\n",
        "print(\"1에서 10까지의 합 : \", hap)"
      ],
      "metadata": {
        "colab": {
          "base_uri": "https://localhost:8080/"
        },
        "id": "PI4bxn3SQRHu",
        "outputId": "dd77eeab-c21c-4d32-b865-9dcfb89c5a47"
      },
      "execution_count": null,
      "outputs": [
        {
          "output_type": "stream",
          "name": "stdout",
          "text": [
            "1 1\n",
            "2 3\n",
            "3 6\n",
            "4 10\n",
            "5 15\n",
            "6 21\n",
            "7 28\n",
            "8 36\n",
            "9 45\n",
            "10 55\n",
            "1에서 10까지의 합 :  55\n"
          ]
        }
      ]
    },
    {
      "cell_type": "code",
      "source": [
        "# 홀수의 합을 구하는 프로그램\n",
        "# 1000~2000 사이에서 홀수의 합을 구하는 프로그램\n",
        "\n",
        "i, hap = 0, 0\n",
        "for i in range(1001, 2001, 2) :\n",
        "  hap += i # hap = hap + i\n",
        "  print(i , hap)\n",
        "\n",
        "print(\"1000에서 2000까지의 홀수의 합 :\", hap)\n"
      ],
      "metadata": {
        "colab": {
          "base_uri": "https://localhost:8080/"
        },
        "id": "DwBbVhkPSarQ",
        "outputId": "1b3020ea-9e79-4ff5-cdd3-c51873e10f9b"
      },
      "execution_count": null,
      "outputs": [
        {
          "output_type": "stream",
          "name": "stdout",
          "text": [
            "1001 1001\n",
            "1003 2004\n",
            "1005 3009\n",
            "1007 4016\n",
            "1009 5025\n",
            "1011 6036\n",
            "1013 7049\n",
            "1015 8064\n",
            "1017 9081\n",
            "1019 10100\n",
            "1021 11121\n",
            "1023 12144\n",
            "1025 13169\n",
            "1027 14196\n",
            "1029 15225\n",
            "1031 16256\n",
            "1033 17289\n",
            "1035 18324\n",
            "1037 19361\n",
            "1039 20400\n",
            "1041 21441\n",
            "1043 22484\n",
            "1045 23529\n",
            "1047 24576\n",
            "1049 25625\n",
            "1051 26676\n",
            "1053 27729\n",
            "1055 28784\n",
            "1057 29841\n",
            "1059 30900\n",
            "1061 31961\n",
            "1063 33024\n",
            "1065 34089\n",
            "1067 35156\n",
            "1069 36225\n",
            "1071 37296\n",
            "1073 38369\n",
            "1075 39444\n",
            "1077 40521\n",
            "1079 41600\n",
            "1081 42681\n",
            "1083 43764\n",
            "1085 44849\n",
            "1087 45936\n",
            "1089 47025\n",
            "1091 48116\n",
            "1093 49209\n",
            "1095 50304\n",
            "1097 51401\n",
            "1099 52500\n",
            "1101 53601\n",
            "1103 54704\n",
            "1105 55809\n",
            "1107 56916\n",
            "1109 58025\n",
            "1111 59136\n",
            "1113 60249\n",
            "1115 61364\n",
            "1117 62481\n",
            "1119 63600\n",
            "1121 64721\n",
            "1123 65844\n",
            "1125 66969\n",
            "1127 68096\n",
            "1129 69225\n",
            "1131 70356\n",
            "1133 71489\n",
            "1135 72624\n",
            "1137 73761\n",
            "1139 74900\n",
            "1141 76041\n",
            "1143 77184\n",
            "1145 78329\n",
            "1147 79476\n",
            "1149 80625\n",
            "1151 81776\n",
            "1153 82929\n",
            "1155 84084\n",
            "1157 85241\n",
            "1159 86400\n",
            "1161 87561\n",
            "1163 88724\n",
            "1165 89889\n",
            "1167 91056\n",
            "1169 92225\n",
            "1171 93396\n",
            "1173 94569\n",
            "1175 95744\n",
            "1177 96921\n",
            "1179 98100\n",
            "1181 99281\n",
            "1183 100464\n",
            "1185 101649\n",
            "1187 102836\n",
            "1189 104025\n",
            "1191 105216\n",
            "1193 106409\n",
            "1195 107604\n",
            "1197 108801\n",
            "1199 110000\n",
            "1201 111201\n",
            "1203 112404\n",
            "1205 113609\n",
            "1207 114816\n",
            "1209 116025\n",
            "1211 117236\n",
            "1213 118449\n",
            "1215 119664\n",
            "1217 120881\n",
            "1219 122100\n",
            "1221 123321\n",
            "1223 124544\n",
            "1225 125769\n",
            "1227 126996\n",
            "1229 128225\n",
            "1231 129456\n",
            "1233 130689\n",
            "1235 131924\n",
            "1237 133161\n",
            "1239 134400\n",
            "1241 135641\n",
            "1243 136884\n",
            "1245 138129\n",
            "1247 139376\n",
            "1249 140625\n",
            "1251 141876\n",
            "1253 143129\n",
            "1255 144384\n",
            "1257 145641\n",
            "1259 146900\n",
            "1261 148161\n",
            "1263 149424\n",
            "1265 150689\n",
            "1267 151956\n",
            "1269 153225\n",
            "1271 154496\n",
            "1273 155769\n",
            "1275 157044\n",
            "1277 158321\n",
            "1279 159600\n",
            "1281 160881\n",
            "1283 162164\n",
            "1285 163449\n",
            "1287 164736\n",
            "1289 166025\n",
            "1291 167316\n",
            "1293 168609\n",
            "1295 169904\n",
            "1297 171201\n",
            "1299 172500\n",
            "1301 173801\n",
            "1303 175104\n",
            "1305 176409\n",
            "1307 177716\n",
            "1309 179025\n",
            "1311 180336\n",
            "1313 181649\n",
            "1315 182964\n",
            "1317 184281\n",
            "1319 185600\n",
            "1321 186921\n",
            "1323 188244\n",
            "1325 189569\n",
            "1327 190896\n",
            "1329 192225\n",
            "1331 193556\n",
            "1333 194889\n",
            "1335 196224\n",
            "1337 197561\n",
            "1339 198900\n",
            "1341 200241\n",
            "1343 201584\n",
            "1345 202929\n",
            "1347 204276\n",
            "1349 205625\n",
            "1351 206976\n",
            "1353 208329\n",
            "1355 209684\n",
            "1357 211041\n",
            "1359 212400\n",
            "1361 213761\n",
            "1363 215124\n",
            "1365 216489\n",
            "1367 217856\n",
            "1369 219225\n",
            "1371 220596\n",
            "1373 221969\n",
            "1375 223344\n",
            "1377 224721\n",
            "1379 226100\n",
            "1381 227481\n",
            "1383 228864\n",
            "1385 230249\n",
            "1387 231636\n",
            "1389 233025\n",
            "1391 234416\n",
            "1393 235809\n",
            "1395 237204\n",
            "1397 238601\n",
            "1399 240000\n",
            "1401 241401\n",
            "1403 242804\n",
            "1405 244209\n",
            "1407 245616\n",
            "1409 247025\n",
            "1411 248436\n",
            "1413 249849\n",
            "1415 251264\n",
            "1417 252681\n",
            "1419 254100\n",
            "1421 255521\n",
            "1423 256944\n",
            "1425 258369\n",
            "1427 259796\n",
            "1429 261225\n",
            "1431 262656\n",
            "1433 264089\n",
            "1435 265524\n",
            "1437 266961\n",
            "1439 268400\n",
            "1441 269841\n",
            "1443 271284\n",
            "1445 272729\n",
            "1447 274176\n",
            "1449 275625\n",
            "1451 277076\n",
            "1453 278529\n",
            "1455 279984\n",
            "1457 281441\n",
            "1459 282900\n",
            "1461 284361\n",
            "1463 285824\n",
            "1465 287289\n",
            "1467 288756\n",
            "1469 290225\n",
            "1471 291696\n",
            "1473 293169\n",
            "1475 294644\n",
            "1477 296121\n",
            "1479 297600\n",
            "1481 299081\n",
            "1483 300564\n",
            "1485 302049\n",
            "1487 303536\n",
            "1489 305025\n",
            "1491 306516\n",
            "1493 308009\n",
            "1495 309504\n",
            "1497 311001\n",
            "1499 312500\n",
            "1501 314001\n",
            "1503 315504\n",
            "1505 317009\n",
            "1507 318516\n",
            "1509 320025\n",
            "1511 321536\n",
            "1513 323049\n",
            "1515 324564\n",
            "1517 326081\n",
            "1519 327600\n",
            "1521 329121\n",
            "1523 330644\n",
            "1525 332169\n",
            "1527 333696\n",
            "1529 335225\n",
            "1531 336756\n",
            "1533 338289\n",
            "1535 339824\n",
            "1537 341361\n",
            "1539 342900\n",
            "1541 344441\n",
            "1543 345984\n",
            "1545 347529\n",
            "1547 349076\n",
            "1549 350625\n",
            "1551 352176\n",
            "1553 353729\n",
            "1555 355284\n",
            "1557 356841\n",
            "1559 358400\n",
            "1561 359961\n",
            "1563 361524\n",
            "1565 363089\n",
            "1567 364656\n",
            "1569 366225\n",
            "1571 367796\n",
            "1573 369369\n",
            "1575 370944\n",
            "1577 372521\n",
            "1579 374100\n",
            "1581 375681\n",
            "1583 377264\n",
            "1585 378849\n",
            "1587 380436\n",
            "1589 382025\n",
            "1591 383616\n",
            "1593 385209\n",
            "1595 386804\n",
            "1597 388401\n",
            "1599 390000\n",
            "1601 391601\n",
            "1603 393204\n",
            "1605 394809\n",
            "1607 396416\n",
            "1609 398025\n",
            "1611 399636\n",
            "1613 401249\n",
            "1615 402864\n",
            "1617 404481\n",
            "1619 406100\n",
            "1621 407721\n",
            "1623 409344\n",
            "1625 410969\n",
            "1627 412596\n",
            "1629 414225\n",
            "1631 415856\n",
            "1633 417489\n",
            "1635 419124\n",
            "1637 420761\n",
            "1639 422400\n",
            "1641 424041\n",
            "1643 425684\n",
            "1645 427329\n",
            "1647 428976\n",
            "1649 430625\n",
            "1651 432276\n",
            "1653 433929\n",
            "1655 435584\n",
            "1657 437241\n",
            "1659 438900\n",
            "1661 440561\n",
            "1663 442224\n",
            "1665 443889\n",
            "1667 445556\n",
            "1669 447225\n",
            "1671 448896\n",
            "1673 450569\n",
            "1675 452244\n",
            "1677 453921\n",
            "1679 455600\n",
            "1681 457281\n",
            "1683 458964\n",
            "1685 460649\n",
            "1687 462336\n",
            "1689 464025\n",
            "1691 465716\n",
            "1693 467409\n",
            "1695 469104\n",
            "1697 470801\n",
            "1699 472500\n",
            "1701 474201\n",
            "1703 475904\n",
            "1705 477609\n",
            "1707 479316\n",
            "1709 481025\n",
            "1711 482736\n",
            "1713 484449\n",
            "1715 486164\n",
            "1717 487881\n",
            "1719 489600\n",
            "1721 491321\n",
            "1723 493044\n",
            "1725 494769\n",
            "1727 496496\n",
            "1729 498225\n",
            "1731 499956\n",
            "1733 501689\n",
            "1735 503424\n",
            "1737 505161\n",
            "1739 506900\n",
            "1741 508641\n",
            "1743 510384\n",
            "1745 512129\n",
            "1747 513876\n",
            "1749 515625\n",
            "1751 517376\n",
            "1753 519129\n",
            "1755 520884\n",
            "1757 522641\n",
            "1759 524400\n",
            "1761 526161\n",
            "1763 527924\n",
            "1765 529689\n",
            "1767 531456\n",
            "1769 533225\n",
            "1771 534996\n",
            "1773 536769\n",
            "1775 538544\n",
            "1777 540321\n",
            "1779 542100\n",
            "1781 543881\n",
            "1783 545664\n",
            "1785 547449\n",
            "1787 549236\n",
            "1789 551025\n",
            "1791 552816\n",
            "1793 554609\n",
            "1795 556404\n",
            "1797 558201\n",
            "1799 560000\n",
            "1801 561801\n",
            "1803 563604\n",
            "1805 565409\n",
            "1807 567216\n",
            "1809 569025\n",
            "1811 570836\n",
            "1813 572649\n",
            "1815 574464\n",
            "1817 576281\n",
            "1819 578100\n",
            "1821 579921\n",
            "1823 581744\n",
            "1825 583569\n",
            "1827 585396\n",
            "1829 587225\n",
            "1831 589056\n",
            "1833 590889\n",
            "1835 592724\n",
            "1837 594561\n",
            "1839 596400\n",
            "1841 598241\n",
            "1843 600084\n",
            "1845 601929\n",
            "1847 603776\n",
            "1849 605625\n",
            "1851 607476\n",
            "1853 609329\n",
            "1855 611184\n",
            "1857 613041\n",
            "1859 614900\n",
            "1861 616761\n",
            "1863 618624\n",
            "1865 620489\n",
            "1867 622356\n",
            "1869 624225\n",
            "1871 626096\n",
            "1873 627969\n",
            "1875 629844\n",
            "1877 631721\n",
            "1879 633600\n",
            "1881 635481\n",
            "1883 637364\n",
            "1885 639249\n",
            "1887 641136\n",
            "1889 643025\n",
            "1891 644916\n",
            "1893 646809\n",
            "1895 648704\n",
            "1897 650601\n",
            "1899 652500\n",
            "1901 654401\n",
            "1903 656304\n",
            "1905 658209\n",
            "1907 660116\n",
            "1909 662025\n",
            "1911 663936\n",
            "1913 665849\n",
            "1915 667764\n",
            "1917 669681\n",
            "1919 671600\n",
            "1921 673521\n",
            "1923 675444\n",
            "1925 677369\n",
            "1927 679296\n",
            "1929 681225\n",
            "1931 683156\n",
            "1933 685089\n",
            "1935 687024\n",
            "1937 688961\n",
            "1939 690900\n",
            "1941 692841\n",
            "1943 694784\n",
            "1945 696729\n",
            "1947 698676\n",
            "1949 700625\n",
            "1951 702576\n",
            "1953 704529\n",
            "1955 706484\n",
            "1957 708441\n",
            "1959 710400\n",
            "1961 712361\n",
            "1963 714324\n",
            "1965 716289\n",
            "1967 718256\n",
            "1969 720225\n",
            "1971 722196\n",
            "1973 724169\n",
            "1975 726144\n",
            "1977 728121\n",
            "1979 730100\n",
            "1981 732081\n",
            "1983 734064\n",
            "1985 736049\n",
            "1987 738036\n",
            "1989 740025\n",
            "1991 742016\n",
            "1993 744009\n",
            "1995 746004\n",
            "1997 748001\n",
            "1999 750000\n",
            "1000에서 2000까지의 홀수의 합 : 750000\n"
          ]
        }
      ]
    },
    {
      "cell_type": "markdown",
      "source": [
        "## 13주차 3강 < 중첩 for문, [LAB] >"
      ],
      "metadata": {
        "id": "ACBIkYIDTS5Y"
      }
    },
    {
      "cell_type": "markdown",
      "source": [
        "### (1) 중첩 for문"
      ],
      "metadata": {
        "id": "RvN4MeOXTbGx"
      }
    },
    {
      "cell_type": "code",
      "source": [
        "# 행과 열로 만들어졌있음 ==> 배열형태의 \n",
        "\n",
        "for i in range(0, 3, 1) : # 바깥쪽 for문\n",
        "  for k in range(0, 2, 1) : # 안쪽 for문\n",
        "    #print(\"파이썬은 쉽습니다.(i값:\", i, \", k값:\", k,\")\")\n",
        "    for j in range(0, 2, 1) : # 안쪽2 for문\n",
        "      print(i, k, j)\n",
        "\n"
      ],
      "metadata": {
        "colab": {
          "base_uri": "https://localhost:8080/"
        },
        "id": "U03QdeNtTdZX",
        "outputId": "3510b967-ac0b-4f6b-f335-bc8e6230aed8"
      },
      "execution_count": null,
      "outputs": [
        {
          "output_type": "stream",
          "name": "stdout",
          "text": [
            "0 0 0\n",
            "0 0 1\n",
            "0 1 0\n",
            "0 1 1\n",
            "1 0 0\n",
            "1 0 1\n",
            "1 1 0\n",
            "1 1 1\n",
            "2 0 0\n",
            "2 0 1\n",
            "2 1 0\n",
            "2 1 1\n"
          ]
        }
      ]
    },
    {
      "cell_type": "markdown",
      "source": [
        "### (2) [LAB] 구구단 계산기 만들기"
      ],
      "metadata": {
        "id": "VGy9UttNTd0g"
      }
    },
    {
      "cell_type": "code",
      "source": [
        "# 1. 1행에서 단으로 사용할 변수 i와 곱할 숫자로 사용할 k를 준비\n",
        "\n",
        "i = 0\n",
        "k = 0\n",
        "\n",
        "# 2. 바깥쪽 for문은 2단~9단까지 8번 반복하며, 안쪽 for문은 1~9까지 9번 반복\n",
        "\n",
        "for i in range(2, 10, 1) :\n",
        "  for k in range(1, 10, 1) :\n",
        "    print(i, \"X\", k, \"=\", i*k)\n",
        "  print(\"\")"
      ],
      "metadata": {
        "colab": {
          "base_uri": "https://localhost:8080/"
        },
        "id": "yPZRsxIrTi2B",
        "outputId": "22dd526a-982a-4ccc-c53f-9b430c9053ea"
      },
      "execution_count": null,
      "outputs": [
        {
          "output_type": "stream",
          "name": "stdout",
          "text": [
            "2 X 1 = 2\n",
            "2 X 2 = 4\n",
            "2 X 3 = 6\n",
            "2 X 4 = 8\n",
            "2 X 5 = 10\n",
            "2 X 6 = 12\n",
            "2 X 7 = 14\n",
            "2 X 8 = 16\n",
            "2 X 9 = 18\n",
            "\n",
            "3 X 1 = 3\n",
            "3 X 2 = 6\n",
            "3 X 3 = 9\n",
            "3 X 4 = 12\n",
            "3 X 5 = 15\n",
            "3 X 6 = 18\n",
            "3 X 7 = 21\n",
            "3 X 8 = 24\n",
            "3 X 9 = 27\n",
            "\n",
            "4 X 1 = 4\n",
            "4 X 2 = 8\n",
            "4 X 3 = 12\n",
            "4 X 4 = 16\n",
            "4 X 5 = 20\n",
            "4 X 6 = 24\n",
            "4 X 7 = 28\n",
            "4 X 8 = 32\n",
            "4 X 9 = 36\n",
            "\n",
            "5 X 1 = 5\n",
            "5 X 2 = 10\n",
            "5 X 3 = 15\n",
            "5 X 4 = 20\n",
            "5 X 5 = 25\n",
            "5 X 6 = 30\n",
            "5 X 7 = 35\n",
            "5 X 8 = 40\n",
            "5 X 9 = 45\n",
            "\n",
            "6 X 1 = 6\n",
            "6 X 2 = 12\n",
            "6 X 3 = 18\n",
            "6 X 4 = 24\n",
            "6 X 5 = 30\n",
            "6 X 6 = 36\n",
            "6 X 7 = 42\n",
            "6 X 8 = 48\n",
            "6 X 9 = 54\n",
            "\n",
            "7 X 1 = 7\n",
            "7 X 2 = 14\n",
            "7 X 3 = 21\n",
            "7 X 4 = 28\n",
            "7 X 5 = 35\n",
            "7 X 6 = 42\n",
            "7 X 7 = 49\n",
            "7 X 8 = 56\n",
            "7 X 9 = 63\n",
            "\n",
            "8 X 1 = 8\n",
            "8 X 2 = 16\n",
            "8 X 3 = 24\n",
            "8 X 4 = 32\n",
            "8 X 5 = 40\n",
            "8 X 6 = 48\n",
            "8 X 7 = 56\n",
            "8 X 8 = 64\n",
            "8 X 9 = 72\n",
            "\n",
            "9 X 1 = 9\n",
            "9 X 2 = 18\n",
            "9 X 3 = 27\n",
            "9 X 4 = 36\n",
            "9 X 5 = 45\n",
            "9 X 6 = 54\n",
            "9 X 7 = 63\n",
            "9 X 8 = 72\n",
            "9 X 9 = 81\n",
            "\n"
          ]
        }
      ]
    },
    {
      "cell_type": "markdown",
      "source": [
        "## 14주 1강 < 리스트의 활용 >\n"
      ],
      "metadata": {
        "id": "7G0wMRF9W3uE"
      }
    },
    {
      "cell_type": "code",
      "source": [
        "#(1) for문을 활용한 리스트\n",
        "#for문을 활용하여 리스트에 0을 4번 추가하기\n",
        "\n",
        "# numList = []\n",
        "# for i in range(0,5) :\n",
        "#   numList.append(0) # 1 : [0], 2: [0,0] 3: [0,0,0]\n",
        "\n",
        "# len(numList)\n",
        "# print(numList)\n",
        "\n",
        "#for문을 활용하여 리스트를 생성하고 값을 대입하도록 수정하기\n",
        "\n",
        "numList = []\n",
        "for i in range(0, 4):\n",
        "  numList.append(0)\n",
        "\n",
        "hap = 0\n",
        "\n",
        "for i in range(0, 4):\n",
        "  numList[i] = int(input(\"숫자 : \"))\n",
        "\n",
        "hap = numList[0] + numList[1] + numList[2] + numList[3]\n",
        "\n",
        "print(numList)\n",
        "print(\"합계 ==> \", hap)\n"
      ],
      "metadata": {
        "colab": {
          "base_uri": "https://localhost:8080/"
        },
        "id": "L00Vx0YeYjsk",
        "outputId": "b32f134a-b6da-4749-a22c-41684af96ae8"
      },
      "execution_count": null,
      "outputs": [
        {
          "output_type": "stream",
          "name": "stdout",
          "text": [
            "숫자 : 30\n",
            "숫자 : 40\n",
            "숫자 : 50\n",
            "숫자 : 60\n",
            "[30, 40, 50, 60]\n",
            "합계 ==>  180\n"
          ]
        }
      ]
    },
    {
      "cell_type": "code",
      "source": [
        "#(2) 리스트 값에 접근하기\n",
        "#첨자(음수)를 활용한 리스트 접근 방법\n",
        "\n",
        "numList = [10, 20, 30, 40, 50]\n",
        "\n",
        "print(numList[-1], numList[-2], numList[-3])\n",
        "\n",
        "print(numList[0:2]) # 리스트이름[시작 첨자 : 끝 첨자+1] \n",
        "print(numList[2:4])\n",
        "print(numList[1:])\n",
        "print(numList[:3]) # 리스트이름[ : 끝 첨자+1] \n"
      ],
      "metadata": {
        "colab": {
          "base_uri": "https://localhost:8080/"
        },
        "id": "GOxdxbjfaKw-",
        "outputId": "b501baf8-da01-4d8b-cac7-7727990d1d34"
      },
      "execution_count": null,
      "outputs": [
        {
          "output_type": "stream",
          "name": "stdout",
          "text": [
            "50 40 30\n",
            "[10, 20]\n",
            "[30, 40]\n",
            "[20, 30, 40, 50]\n",
            "[10, 20, 30]\n"
          ]
        }
      ]
    },
    {
      "cell_type": "code",
      "source": [
        "#(3) 리스트의 덧셈과 곱셈\n",
        "#리스트의 덧셈 : 요소들이 합쳐져 하나의 리스트가 됨\n",
        "numList = [10, 20, 30]\n",
        "myList = [40, 50, 60]\n",
        "print(numList + myList)\n",
        "\n",
        "#리스트의 곱셈 : 곱한 횟수만큼 리스트가 반복됨\n",
        "print(numList * 3)\n"
      ],
      "metadata": {
        "colab": {
          "base_uri": "https://localhost:8080/"
        },
        "id": "4TlbMWYLbU_P",
        "outputId": "8b065e0b-2fe9-4ed5-b487-023ec1e661aa"
      },
      "execution_count": null,
      "outputs": [
        {
          "output_type": "stream",
          "name": "stdout",
          "text": [
            "[10, 20, 30, 40, 50, 60]\n",
            "[10, 20, 30, 10, 20, 30, 10, 20, 30]\n"
          ]
        }
      ]
    },
    {
      "cell_type": "markdown",
      "source": [
        "## 14주 2강 < 튜플 활용하기 >"
      ],
      "metadata": {
        "id": "CaW8f9mTdYKw"
      }
    },
    {
      "cell_type": "code",
      "source": [
        "numTup1 = (10, 20, 30)\n",
        "print(numTup1)\n",
        "\n",
        "numTup2 = 10, 20, 30\n",
        "print(numTup2)\n",
        "\n",
        "#numTup1.append(0) # [] => [0] => [0,0]\n",
        "#numTup1[0] = 40\n",
        "del(numTup1[0])\n",
        "print(numTup1)"
      ],
      "metadata": {
        "colab": {
          "base_uri": "https://localhost:8080/",
          "height": 253
        },
        "id": "1HYfOKMNdeVm",
        "outputId": "85cd35e6-f314-460d-8b01-f20e3c2e56b3"
      },
      "execution_count": null,
      "outputs": [
        {
          "output_type": "stream",
          "name": "stdout",
          "text": [
            "(10, 20, 30)\n",
            "(10, 20, 30)\n"
          ]
        },
        {
          "output_type": "error",
          "ename": "TypeError",
          "evalue": "ignored",
          "traceback": [
            "\u001b[0;31m---------------------------------------------------------------------------\u001b[0m",
            "\u001b[0;31mTypeError\u001b[0m                                 Traceback (most recent call last)",
            "\u001b[0;32m<ipython-input-81-bed09a404972>\u001b[0m in \u001b[0;36m<module>\u001b[0;34m()\u001b[0m\n\u001b[1;32m      7\u001b[0m \u001b[0;31m#numTup1.append(0) # [] => [0] => [0,0]\u001b[0m\u001b[0;34m\u001b[0m\u001b[0;34m\u001b[0m\u001b[0;34m\u001b[0m\u001b[0m\n\u001b[1;32m      8\u001b[0m \u001b[0;31m#numTup1[0] = 40\u001b[0m\u001b[0;34m\u001b[0m\u001b[0;34m\u001b[0m\u001b[0;34m\u001b[0m\u001b[0m\n\u001b[0;32m----> 9\u001b[0;31m \u001b[0;32mdel\u001b[0m\u001b[0;34m(\u001b[0m\u001b[0mnumTup1\u001b[0m\u001b[0;34m[\u001b[0m\u001b[0;36m0\u001b[0m\u001b[0;34m]\u001b[0m\u001b[0;34m)\u001b[0m\u001b[0;34m\u001b[0m\u001b[0;34m\u001b[0m\u001b[0m\n\u001b[0m\u001b[1;32m     10\u001b[0m \u001b[0mprint\u001b[0m\u001b[0;34m(\u001b[0m\u001b[0mnumTup1\u001b[0m\u001b[0;34m)\u001b[0m\u001b[0;34m\u001b[0m\u001b[0;34m\u001b[0m\u001b[0m\n",
            "\u001b[0;31mTypeError\u001b[0m: 'tuple' object doesn't support item deletion"
          ]
        }
      ]
    },
    {
      "cell_type": "code",
      "source": [
        "# 튜플에 접근하기\n",
        "\n",
        "numTup1 = (10, 20, 30, 40)\n",
        "print(numTup1[3])\n",
        "\n",
        "print(numTup1[0] + numTup1[1]+ numTup1[2])\n",
        "\n",
        "# 콜론(시작인덱스 : 끝인덱스+1) : 튜플의 범위에 접근하기\n",
        "\n",
        "print(numTup1[1:3]) # [1:2] 출력\n",
        "\n",
        "print(numTup1[1:])\n",
        "\n",
        "print(numTup1[:3]) # 0~2\n",
        "\n",
        "# 튜플의 더하기 및 곱하기 연산\n",
        "numTup2 = ('A', 'B')\n",
        "print(numTup1 + numTup2)\n",
        "\n",
        "print(numTup2 * 3)"
      ],
      "metadata": {
        "colab": {
          "base_uri": "https://localhost:8080/"
        },
        "id": "W2_A-Um1euQS",
        "outputId": "33987b49-4f4b-4bf5-a747-fe8526a0c2c6"
      },
      "execution_count": null,
      "outputs": [
        {
          "output_type": "stream",
          "name": "stdout",
          "text": [
            "40\n",
            "60\n",
            "(20, 30)\n",
            "(20, 30, 40)\n",
            "(10, 20, 30)\n",
            "(10, 20, 30, 40, 'A', 'B')\n",
            "('A', 'B', 'A', 'B', 'A', 'B')\n"
          ]
        }
      ]
    },
    {
      "cell_type": "code",
      "source": [
        "# 튜플과 리스트의 상호 변화\n",
        "\n",
        "myTuple = (10,20,30)\n",
        "myList = list(myTuple)\n",
        "print(myList)\n",
        "\n",
        "myList.append(40)\n",
        "print(myList)\n",
        "\n",
        "myTuple = tuple(myList)\n",
        "print(myTuple)\n",
        "\n"
      ],
      "metadata": {
        "colab": {
          "base_uri": "https://localhost:8080/",
          "height": 253
        },
        "id": "0mVo2TkWgAMj",
        "outputId": "016f2604-5740-43a7-cea5-546b9b17ced8"
      },
      "execution_count": null,
      "outputs": [
        {
          "output_type": "stream",
          "name": "stdout",
          "text": [
            "[10, 20, 30]\n",
            "[10, 20, 30, 40]\n",
            "(10, 20, 30, 40)\n"
          ]
        },
        {
          "output_type": "error",
          "ename": "AttributeError",
          "evalue": "ignored",
          "traceback": [
            "\u001b[0;31m---------------------------------------------------------------------------\u001b[0m",
            "\u001b[0;31mAttributeError\u001b[0m                            Traceback (most recent call last)",
            "\u001b[0;32m<ipython-input-95-b161dee0b5d0>\u001b[0m in \u001b[0;36m<module>\u001b[0;34m()\u001b[0m\n\u001b[1;32m     11\u001b[0m \u001b[0mprint\u001b[0m\u001b[0;34m(\u001b[0m\u001b[0mmyTuple\u001b[0m\u001b[0;34m)\u001b[0m\u001b[0;34m\u001b[0m\u001b[0;34m\u001b[0m\u001b[0m\n\u001b[1;32m     12\u001b[0m \u001b[0;34m\u001b[0m\u001b[0m\n\u001b[0;32m---> 13\u001b[0;31m \u001b[0mmyTuple\u001b[0m\u001b[0;34m.\u001b[0m\u001b[0mappend\u001b[0m\u001b[0;34m(\u001b[0m\u001b[0;36m50\u001b[0m\u001b[0;34m)\u001b[0m\u001b[0;34m\u001b[0m\u001b[0;34m\u001b[0m\u001b[0m\n\u001b[0m",
            "\u001b[0;31mAttributeError\u001b[0m: 'tuple' object has no attribute 'append'"
          ]
        }
      ]
    },
    {
      "cell_type": "markdown",
      "source": [
        "## 14주차 3강 < 딕셔너리 활용하기 >"
      ],
      "metadata": {
        "id": "gNZYSU2LhsZM"
      }
    },
    {
      "cell_type": "markdown",
      "source": [
        "### (1)딕셔너리의 생성과 삭제"
      ],
      "metadata": {
        "id": "76X5HS_KhzXD"
      }
    },
    {
      "cell_type": "code",
      "source": [
        "# 1. 회사원 홍길동의 정보를 딕셔너리로 생성하기\n",
        "\n",
        "empDict = {'사번':1000, '이름':'홍길동','부서':'케이팝'}\n",
        "print(empDict)\n",
        "\n",
        "# 2. 딕셔너리에 정보를 더 추가하기 \n",
        "empDict['연락처'] = '010-0000-0000'\n",
        "print(empDict)\n",
        "\n",
        "# 3. 정보를 추가할 때 이미 키가 딕셔너리에 존재하는 경우\n",
        "empDict['부서'] = '디지털대학교'\n",
        "print(empDict)\n",
        "\n",
        "# 4. 딕셔너리의 키는 중복되지 않고 유일함\n",
        "empDict2 = {'사번':1000, '이름':'홍길동','사번':2000}\n",
        "print(empDict2)\n",
        "\n",
        "# 5. 딕셔너리의 쌍을 삭제하기\n",
        "del(empDict['부서'])\n",
        "print(empDict)\n"
      ],
      "metadata": {
        "colab": {
          "base_uri": "https://localhost:8080/"
        },
        "id": "mfi1K_OViDaU",
        "outputId": "52a3f14c-144d-4953-fbeb-1d56570e4217"
      },
      "execution_count": null,
      "outputs": [
        {
          "output_type": "stream",
          "name": "stdout",
          "text": [
            "{'사번': 1000, '이름': '홍길동', '부서': '케이팝'}\n",
            "{'사번': 1000, '이름': '홍길동', '부서': '케이팝', '연락처': '010-0000-0000'}\n",
            "{'사번': 1000, '이름': '홍길동', '부서': '디지털대학교', '연락처': '010-0000-0000'}\n",
            "{'사번': 2000, '이름': '홍길동'}\n",
            "{'사번': 1000, '이름': '홍길동', '연락처': '010-0000-0000'}\n"
          ]
        }
      ]
    },
    {
      "cell_type": "markdown",
      "source": [
        "###(2) 딕셔너리 사용하기"
      ],
      "metadata": {
        "id": "gP5ZEsh3h2Ts"
      }
    },
    {
      "cell_type": "code",
      "source": [
        "#(1) 딕셔너리에 접근하기\n",
        "empDict = {'사번':1000, '이름':'홍길동', '부서':'케이팝' }\n",
        "\n",
        "print(empDict['부서'])\n",
        "\n",
        "#(2) 딕셔너리와 관련된 유용한 함수\n",
        "\n",
        "# 딕셔너리이름.keys() : 딕셔너리의 모든 키만 뽑아서 반환함\n",
        "\n",
        "empDict.keys()\n",
        "\n",
        "# list(딕셔너리이름.keys()) : 출력 결과에 dict_keys가 붙지 않음 # 리스트로 변환\n",
        "list(empDict.keys())\n",
        "\n",
        "# 딕셔너리이름.values() : 딕셔너리의 모든 값을 리스트로 만들어서 반환함\n",
        "empDict.values()\n",
        "\n",
        "# 딕셔너리이름.items() : 튜플 형태로 구하기\n",
        "empDict.items()\n",
        "\n",
        "# in : 딕셔너리 안에 키가 있는지는 확인이 가능함 \n",
        "'주소' in empDict\n",
        "\n",
        "# 딕셔너리에 저장된 것을 한 건씩 출력하려면 for문을 사용\n",
        "\n",
        "for key in empDict.keys() :\n",
        "  print(key, empDict[key])\n"
      ],
      "metadata": {
        "colab": {
          "base_uri": "https://localhost:8080/"
        },
        "id": "JIhF_rwOjruN",
        "outputId": "0c6171cc-b4c1-4dcf-8ddf-96d789707b33"
      },
      "execution_count": null,
      "outputs": [
        {
          "output_type": "stream",
          "name": "stdout",
          "text": [
            "케이팝\n",
            "사번 1000\n",
            "이름 홍길동\n",
            "부서 케이팝\n"
          ]
        }
      ]
    }
  ]
}